{
 "cells": [
  {
   "cell_type": "markdown",
   "metadata": {},
   "source": [
    "<h2 id=\"Contents\">Contents<a href=\"#Contents\"></a></h2>\n",
    "        <ol>\n",
    "        <li><a class=\"\" href=\"#Imports\">Imports</a></li>\n",
    "<li><a class=\"\" href=\"#Eigenvalue-Problem\">Eigenvalue Problem</a></li>\n",
    "<ol><li><a class=\"\" href=\"#Solving-It-Algebraically\">Solving It Algebraically</a></li>\n",
    "<ol><li><a class=\"\" href=\"#Eigenvalues\">Eigenvalues</a></li>\n",
    "</ol><li><a class=\"\" href=\"#Iterative-Method-To-Get-The-Largest-Eigenvalue\">Iterative Method To Get The Largest Eigenvalue</a></li>\n",
    "</ol>"
   ]
  },
  {
   "cell_type": "markdown",
   "metadata": {},
   "source": [
    "# Imports"
   ]
  },
  {
   "cell_type": "code",
   "execution_count": 1,
   "metadata": {},
   "outputs": [],
   "source": [
    "import numpy as np\n",
    "import matplotlib.pyplot as plt\n",
    "import scipy.linalg as la\n",
    "import sympy as sp"
   ]
  },
  {
   "cell_type": "markdown",
   "metadata": {},
   "source": [
    "# Eigenvalue Problem"
   ]
  },
  {
   "cell_type": "markdown",
   "metadata": {},
   "source": [
    "Let $\\mathbf{A}$ be a square matrix of size $n \\times n$. The eigenvalue problem is to find the eigenvalues and eigenvectors of $\\mathbf{A}$ defined as:\n",
    "$$\n",
    "\\mathbf{A} \\mathbf{v} = \\lambda \\mathbf{v}\n",
    "$$\n",
    "Here, $\\mathbf{v}$ is the eigenvector and $\\lambda$ is the eigenvalue."
   ]
  },
  {
   "cell_type": "markdown",
   "metadata": {},
   "source": [
    "## Solving It Algebraically"
   ]
  },
  {
   "cell_type": "markdown",
   "metadata": {},
   "source": [
    "The problem, $\\mathbf{A} \\mathbf{v} = \\lambda \\mathbf{v}$ cab be written as $(\\mathbf{A} -  \\lambda I) \\mathbf{v} = \\mathbf{0}$. Taking the determinant of the matrix, we get:\n",
    "$$\n",
    "\\det(\\mathbf{A} - \\lambda I) = 0\n",
    "$$\n",
    "This is called the characteristic equation. Solving this gives the eigenvalue of $\\mathbf{A}$. The eignevectors are then calculated using the known values of the eigenvalue."
   ]
  },
  {
   "cell_type": "markdown",
   "metadata": {},
   "source": [
    "### Eigenvalues"
   ]
  },
  {
   "cell_type": "code",
   "execution_count": 16,
   "metadata": {},
   "outputs": [],
   "source": [
    "def calc_eigenvalue(A):\n",
    "    \"\"\"\n",
    "    Calculate the eigenvalue of a matrix A.\n",
    "    \"\"\"\n",
    "    #Check for square matrix\n",
    "    if A.shape[0] != A.shape[1]:\n",
    "        raise ValueError(\"A is not a square matrix\")\n",
    "\n",
    "    #Check for Invertible Matrix\n",
    "    if np.linalg.det(A) == 0:\n",
    "        raise ValueError(\"A is not invertible\")\n",
    "    #Define the identity matrix\n",
    "    A = sp.Matrix(A)\n",
    "    I = sp.Identity(A.shape[0])\n",
    "    #The caharacteristic eqauation\n",
    "    x = sp.Symbol('x')\n",
    "    C = (A-x*I)\n",
    "    equation = sp.Eq(C,0)\n",
    "    #Solve the equation\n",
    "    eigenvalue = sp.solve(equation, x)\n",
    "    #Return the eigenvalue\n",
    "    return eigenvalue"
   ]
  },
  {
   "cell_type": "code",
   "execution_count": 20,
   "metadata": {},
   "outputs": [
    {
     "data": {
      "text/plain": [
       "array([1, 2, 3])"
      ]
     },
     "execution_count": 20,
     "metadata": {},
     "output_type": "execute_result"
    }
   ],
   "source": [
    "calc_eigenvalue(B)"
   ]
  },
  {
   "cell_type": "code",
   "execution_count": 21,
   "metadata": {},
   "outputs": [
    {
     "data": {
      "text/plain": [
       "array('Hello', dtype='<U5')"
      ]
     },
     "execution_count": 21,
     "metadata": {},
     "output_type": "execute_result"
    }
   ],
   "source": [
    "calc_eigenvalue(C)"
   ]
  },
  {
   "cell_type": "code",
   "execution_count": null,
   "metadata": {},
   "outputs": [],
   "source": []
  },
  {
   "cell_type": "markdown",
   "metadata": {},
   "source": [
    "## Iterative Method To Get The Largest Eigenvalue"
   ]
  },
  {
   "cell_type": "code",
   "execution_count": 44,
   "metadata": {},
   "outputs": [],
   "source": [
    "def largest_eig(A, tol=1e-6, max_iter=100):\n",
    "    if A.shape[0] != A.shape[1]:\n",
    "        raise ValueError(\"A is not a square matrix\")\n",
    "    \n",
    "    if np.linalg.det(A) == 0:\n",
    "        raise ValueError(\"A is not invertible\")\n",
    "        \n",
    "    x0 = np.ones((A.shape[0], 1))\n",
    "    lambd0 = 1\n",
    "    iter = 0\n",
    "    while True:\n",
    "        iter+=1\n",
    "        if iter > max_iter:\n",
    "            print(f\"{max_iter} Iteractions Done! Not converged\")\n",
    "            break\n",
    "        Ax = np.dot(A, x0)\n",
    "        lambd_next = Ax.max()\n",
    "        x_next = Ax/lambd_next\n",
    "        if np.abs(lambd_next - lambd0) < tol:\n",
    "            break\n",
    "        x0 = x_next\n",
    "        lambd0 = lambd_next\n",
    "    return lambd_next, x_next"
   ]
  },
  {
   "cell_type": "code",
   "execution_count": 45,
   "metadata": {},
   "outputs": [
    {
     "data": {
      "text/plain": [
       "(8.321825407715025,\n",
       " array([[1.        ],\n",
       "        [0.47454648]]))"
      ]
     },
     "execution_count": 45,
     "metadata": {},
     "output_type": "execute_result"
    }
   ],
   "source": [
    "A = np.array([[5, 7], [3, 2]])\n",
    "A.shape\n",
    "largest_eig(A)"
   ]
  },
  {
   "cell_type": "code",
   "execution_count": 28,
   "metadata": {},
   "outputs": [
    {
     "data": {
      "text/plain": [
       "(12.928203193763359,\n",
       " array([[0.3660254],\n",
       "        [0.6830127],\n",
       "        [1.       ]]))"
      ]
     },
     "execution_count": 28,
     "metadata": {},
     "output_type": "execute_result"
    }
   ],
   "source": [
    "B = np.array([[1, 2, 3], [3, 4, 5], [5, 6, 7]])\n",
    "largest_eig(B)"
   ]
  },
  {
   "cell_type": "code",
   "execution_count": 29,
   "metadata": {},
   "outputs": [
    {
     "data": {
      "text/plain": [
       "(array([ 1.29282032e+01, -9.28203230e-01,  9.10085294e-16]),\n",
       " array([[-0.28932501, -0.80222426,  0.40824829],\n",
       "        [-0.53988782, -0.10747767, -0.81649658],\n",
       "        [-0.79045062,  0.58726892,  0.40824829]]))"
      ]
     },
     "execution_count": 29,
     "metadata": {},
     "output_type": "execute_result"
    }
   ],
   "source": [
    "np.linalg.eig(B)"
   ]
  },
  {
   "cell_type": "markdown",
   "metadata": {},
   "source": []
  }
 ],
 "metadata": {
  "interpreter": {
   "hash": "68f7313e9a186548f77cab3a17a5af81b9cdb9b3b5937414a1631d8954f25ebe"
  },
  "kernelspec": {
   "display_name": "Python 3.9.12",
   "language": "python",
   "name": "python3"
  },
  "language_info": {
   "codemirror_mode": {
    "name": "ipython",
    "version": 3
   },
   "file_extension": ".py",
   "mimetype": "text/x-python",
   "name": "python",
   "nbconvert_exporter": "python",
   "pygments_lexer": "ipython3",
   "version": "3.9.12"
  },
  "orig_nbformat": 4
 },
 "nbformat": 4,
 "nbformat_minor": 2
}
