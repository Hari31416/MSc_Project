{
 "cells": [
  {
   "cell_type": "code",
   "execution_count": 2,
   "metadata": {},
   "outputs": [],
   "source": [
    "from life_saving_tools.files import Files"
   ]
  },
  {
   "cell_type": "code",
   "execution_count": 4,
   "metadata": {},
   "outputs": [],
   "source": [
    "f = Files.FileOrganizer()"
   ]
  },
  {
   "cell_type": "code",
   "execution_count": 2,
   "metadata": {},
   "outputs": [],
   "source": [
    "def create_content(notebook_path, return_string = False):\n",
    "    print(\"Converting the Notebook to HTML.\")\n",
    "    notebook = nbformat.read(notebook_path, as_version=4)\n",
    "    html_exporter = HTMLExporter(template_name=\"classic\")\n",
    "    (body, _) = html_exporter.from_notebook_node(notebook)\n",
    "    soup = bs4.BeautifulSoup(body)\n",
    "    \n",
    "    print(\"Looking for the Headers and their positions.\")\n",
    "    headers = {\n",
    "    \"h1\":[],\n",
    "    \"h2\":[],\n",
    "    \"h3\":[],\n",
    "    \"h4\":[],\n",
    "    \"h5\":[],\n",
    "    \"h6\":[]\n",
    "    }\n",
    "\n",
    "    for hs in headers.keys():\n",
    "        headers[hs] = soup.select(hs)\n",
    "\n",
    "    positions = {\n",
    "        \"h1\":[],\n",
    "        \"h2\":[],\n",
    "        \"h3\":[],\n",
    "        \"h4\":[],\n",
    "        \"h5\":[],\n",
    "        \"h6\":[]\n",
    "    }\n",
    "    all = []\n",
    "    for hs in positions.keys():\n",
    "        positions[hs] = [str(soup).find(str(h)) for h in headers[hs]]\n",
    "        all.extend(positions[hs])\n",
    "    all.sort()\n",
    "    positions[\"all\"] = all\n",
    "\n",
    "    print(\"Getting correct order of the Headers.\")\n",
    "    correct_order = []\n",
    "    for i in positions[\"all\"]:\n",
    "        for keys in positions.keys():\n",
    "            if i in positions[keys]:\n",
    "                correct_order.append(keys)\n",
    "                break\n",
    "    \n",
    "    index = []\n",
    "    for order in correct_order:\n",
    "        index.append(headers[order][0])\n",
    "        headers[order].pop(0)\n",
    "\n",
    "    print(\"Creating the Contents.\")\n",
    "    start = \"<ol>\"\n",
    "    end = \"</ol>\"\n",
    "    string =  f\"\"\"<h2 id=\"Contents\">Contents<a href=\"#Contents\"></a></h2>\n",
    "    {start}\n",
    "    \"\"\"\n",
    "    current_header = \"h1\"\n",
    "    for i, order in enumerate(correct_order):\n",
    "        previous_header = current_header\n",
    "        current_header = order\n",
    "        to_add = f\"\"\"<li>{str(index[i].select('a')[0]).replace(\"¶\", index[i].get_text()[:-1]).replace(\"anchor-link\", \"\")}</li>\\n\"\"\"\n",
    "        if previous_header == current_header:\n",
    "            string+= to_add\n",
    "\n",
    "        elif int(previous_header[-1]) < int(current_header[-1]):\n",
    "            string += start\n",
    "            string+= to_add\n",
    "            \n",
    "        elif int(previous_header[-1]) > int(current_header[-1]):\n",
    "            string += end\n",
    "            string+= to_add\n",
    "    string+= end\n",
    "    pyperclip.copy(string)\n",
    "    print(\"Content copied to clipboard.\")\n",
    "    if return_string:\n",
    "        return string\n",
    "    else:\n",
    "        return None\n",
    "    "
   ]
  },
  {
   "cell_type": "code",
   "execution_count": 3,
   "metadata": {},
   "outputs": [
    {
     "name": "stdout",
     "output_type": "stream",
     "text": [
      "Converting the Notebook to HTML.\n",
      "Looking for the Headers.\n",
      "Getting correct order of the Headers.\n",
      "Creating the Contents.\n",
      "Content copied to clipboard.\n"
     ]
    }
   ],
   "source": [
    "notebook_path = \"Numerical_Integration.ipynb\"\n",
    "create_content(notebook_path, return_string = False)"
   ]
  },
  {
   "cell_type": "markdown",
   "metadata": {},
   "source": [
    "## Getting heading Tags"
   ]
  },
  {
   "cell_type": "code",
   "execution_count": 3,
   "metadata": {},
   "outputs": [
    {
     "data": {
      "text/plain": [
       "[<h2 id=\"Differentiation-Using-Taylor-Series\">Differentiation Using Taylor Series<a class=\"anchor-link\" href=\"#Differentiation-Using-Taylor-Series\">¶</a></h2>,\n",
       " <h2 id=\"Implementation-with-Examples\">Implementation with Examples<a class=\"anchor-link\" href=\"#Implementation-with-Examples\">¶</a></h2>,\n",
       " <h2 id=\"Other-Methods\">Other Methods<a class=\"anchor-link\" href=\"#Other-Methods\">¶</a></h2>,\n",
       " <h2 id=\"Remarks\">Remarks<a class=\"anchor-link\" href=\"#Remarks\">¶</a></h2>]"
      ]
     },
     "execution_count": 3,
     "metadata": {},
     "output_type": "execute_result"
    }
   ],
   "source": [
    "soup.select(\"h2\")"
   ]
  },
  {
   "cell_type": "code",
   "execution_count": 4,
   "metadata": {},
   "outputs": [
    {
     "data": {
      "text/plain": [
       "['Differentiation']"
      ]
     },
     "execution_count": 4,
     "metadata": {},
     "output_type": "execute_result"
    }
   ],
   "source": [
    "soup.select(\"h1\")[1].get_attribute_list(\"id\")"
   ]
  },
  {
   "cell_type": "code",
   "execution_count": 5,
   "metadata": {},
   "outputs": [
    {
     "data": {
      "text/plain": [
       "[<h2 id=\"Differentiation-Using-Taylor-Series\">Differentiation Using Taylor Series<a class=\"anchor-link\" href=\"#Differentiation-Using-Taylor-Series\">¶</a></h2>,\n",
       " <h2 id=\"Implementation-with-Examples\">Implementation with Examples<a class=\"anchor-link\" href=\"#Implementation-with-Examples\">¶</a></h2>,\n",
       " <h2 id=\"Other-Methods\">Other Methods<a class=\"anchor-link\" href=\"#Other-Methods\">¶</a></h2>,\n",
       " <h2 id=\"Remarks\">Remarks<a class=\"anchor-link\" href=\"#Remarks\">¶</a></h2>]"
      ]
     },
     "execution_count": 5,
     "metadata": {},
     "output_type": "execute_result"
    }
   ],
   "source": [
    "soup.select(\"h2\")"
   ]
  },
  {
   "cell_type": "code",
   "execution_count": 67,
   "metadata": {},
   "outputs": [],
   "source": [
    "headers = {\n",
    "    \"h1\":[],\n",
    "    \"h2\":[],\n",
    "    \"h3\":[],\n",
    "    \"h4\":[],\n",
    "    \"h5\":[],\n",
    "    \"h6\":[]\n",
    "}\n",
    "\n",
    "for hs in headers.keys():\n",
    "    headers[hs] = soup.select(hs)\n",
    "\n",
    "positions = {\n",
    "    \"h1\":[],\n",
    "    \"h2\":[],\n",
    "    \"h3\":[],\n",
    "    \"h4\":[],\n",
    "    \"h5\":[],\n",
    "    \"h6\":[]\n",
    "}\n",
    "all = []\n",
    "for hs in positions.keys():\n",
    "    positions[hs] = [str(soup).find(str(h)) for h in headers[hs]]\n",
    "    all.extend(positions[hs])\n",
    "all.sort()\n",
    "positions[\"all\"] = all\n"
   ]
  },
  {
   "cell_type": "code",
   "execution_count": 68,
   "metadata": {},
   "outputs": [],
   "source": [
    "# positions"
   ]
  },
  {
   "cell_type": "markdown",
   "metadata": {},
   "source": [
    "1. Start from the first header.\n",
    "2. Note the next heading position in that header.\n",
    "3. Move to the other set of headers and see if the position of that header is between the previous two headers in the upper level. \n",
    "4. If yes, note them else move to the next levels of headers and do the same till you reach on the last level.\n",
    "5. Repeat the procedure for next set of headers."
   ]
  },
  {
   "cell_type": "code",
   "execution_count": 69,
   "metadata": {},
   "outputs": [],
   "source": [
    "correct_order = []\n",
    "for i in positions[\"all\"]:\n",
    "    for keys in positions.keys():\n",
    "        if i in positions[keys]:\n",
    "            correct_order.append(keys)\n",
    "            # print(keys)\n",
    "            break"
   ]
  },
  {
   "cell_type": "code",
   "execution_count": 70,
   "metadata": {},
   "outputs": [
    {
     "data": {
      "text/plain": [
       "['h1',\n",
       " 'h1',\n",
       " 'h2',\n",
       " 'h3',\n",
       " 'h4',\n",
       " 'h4',\n",
       " 'h4',\n",
       " 'h4',\n",
       " 'h4',\n",
       " 'h4',\n",
       " 'h3',\n",
       " 'h3',\n",
       " 'h2',\n",
       " 'h3',\n",
       " 'h4',\n",
       " 'h4',\n",
       " 'h4',\n",
       " 'h4',\n",
       " 'h4',\n",
       " 'h4',\n",
       " 'h3',\n",
       " 'h3',\n",
       " 'h2',\n",
       " 'h3',\n",
       " 'h3',\n",
       " 'h2']"
      ]
     },
     "execution_count": 70,
     "metadata": {},
     "output_type": "execute_result"
    }
   ],
   "source": [
    "correct_order"
   ]
  },
  {
   "cell_type": "code",
   "execution_count": 71,
   "metadata": {},
   "outputs": [],
   "source": [
    "index = []\n",
    "for order in correct_order:\n",
    "    # print(order)\n",
    "    # print(headers[order])\n",
    "    index.append(headers[order][0])\n",
    "    headers[order].pop(0)\n",
    "    # print(positions[order])\n",
    "    # print(\"\\n\")"
   ]
  },
  {
   "cell_type": "code",
   "execution_count": 102,
   "metadata": {},
   "outputs": [],
   "source": [
    "start = \"<ol>\"\n",
    "end = \"</ol>\"\n",
    "string =  f\"\"\"<h2 id=\"Contents\">Contents<a href=\"#Contents\"></a></h2>\n",
    "{start}\n",
    "\"\"\"\n",
    "current_header = \"h1\"\n",
    "for i, order in enumerate(correct_order):\n",
    "    previous_header = current_header\n",
    "    current_header = order\n",
    "    to_add = f\"\"\"<li>{str(index[i].select('a')[0]).replace(\"¶\", index[i].get_text()[:-1]).replace(\"anchor-link\", \"\")}</li>\\n\"\"\"\n",
    "    if previous_header == current_header:\n",
    "        string+= to_add\n",
    "\n",
    "    elif int(previous_header[-1]) < int(current_header[-1]):\n",
    "        string += start\n",
    "        string+= to_add\n",
    "        \n",
    "    elif int(previous_header[-1]) > int(current_header[-1]):\n",
    "        string += end\n",
    "        string+= to_add\n",
    "string+= end\n",
    "pyperclip.copy(string)\n"
   ]
  },
  {
   "cell_type": "markdown",
   "metadata": {},
   "source": [
    "<ol>\n",
    "<li><a class=\"\" href=\"#Imports\">Imports</a></li>\n",
    "<li><a class=\"\" href=\"#Differentiation\">Differentiation</a></li>\n",
    "<ol><li><a class=\"\" href=\"#Differentiation-Using-Taylor-Series\">Differentiation Using Taylor Series</a></li>\n",
    "<ol><li><a class=\"\" href=\"#Forwards-Difference\">Forwards Difference</a></li>\n",
    "<ol><li><a class=\"\" href=\"#First-Order-Derivative\">First Order Derivative</a></li>\n",
    "<li><a class=\"\" href=\"#Second-Order-Derivative\">Second Order Derivative</a></li>\n",
    "<li><a class=\"\" href=\"#First-Order-Derivative\">First Order Derivative</a></li>\n",
    "<li><a class=\"\" href=\"#Second-Order-Derivative\">Second Order Derivative</a></li>\n",
    "<li><a class=\"\" href=\"#First-Order-Derivative\">First Order Derivative</a></li>\n",
    "<li><a class=\"\" href=\"#Second-Order-Derivative\">Second Order Derivative</a></li>\n",
    "</ol><li><a class=\"\" href=\"#Backwards-Difference\">Backwards Difference</a></li>\n",
    "<li><a class=\"\" href=\"#Central-Difference\">Central Difference</a></li>\n",
    "</ol><li><a class=\"\" href=\"#Implementation-with-Examples\">Implementation with Examples</a></li>\n",
    "<ol><li><a class=\"\" href=\"#First-Order-Derivatives\">First Order Derivatives</a></li>\n",
    "<ol><li><a class=\"\" href=\"#Forward-Difference\">Forward Difference</a></li>\n",
    "<li><a class=\"\" href=\"#Backwards-Difference\">Backwards Difference</a></li>\n",
    "<li><a class=\"\" href=\"#Central-Difference\">Central Difference</a></li>\n",
    "<li><a class=\"\" href=\"#Forward-Difference\">Forward Difference</a></li>\n",
    "<li><a class=\"\" href=\"#Backwards-Difference\">Backwards Difference</a></li>\n",
    "<li><a class=\"\" href=\"#Central-Difference\">Central Difference</a></li>\n",
    "</ol><li><a class=\"\" href=\"#Second-Order-Derivative\">Second Order Derivative</a></li>\n",
    "<li><a class=\"\" href=\"#Comparison-of-the-Different-Methods\">Comparison of the Different Methods</a></li>\n",
    "</ol><li><a class=\"\" href=\"#Other-Methods\">Other Methods</a></li>\n",
    "<ol><li><a class=\"\" href=\"#Richardson-Extrapolation\">Richardson Extrapolation</a></li>\n",
    "<li><a class=\"\" href=\"#Finite-Divided-Difference-Approximation\">Finite Divided Difference Approximation</a></li>\n",
    "</ol><li><a class=\"\" href=\"#Remarks\">Remarks</a></li>\n",
    "</ol>"
   ]
  },
  {
   "cell_type": "markdown",
   "metadata": {},
   "source": [
    "<h2 id=\"Contents\">Contents<a href=\"#Contents\"></a></h2>"
   ]
  },
  {
   "cell_type": "code",
   "execution_count": null,
   "metadata": {},
   "outputs": [],
   "source": [
    "string = \"\"\"<h2 id=\"Content\">Content<a href=\"#Content\"></a></h2>\n",
    "<ol>\n",
    "<li>\n",
    "Item 1\n",
    "<ol>\n",
    "<li>\n",
    "Item 11\n",
    "</li>\n",
    "</ol>\n",
    "</ol>\n",
    "\"\"\""
   ]
  },
  {
   "cell_type": "code",
   "execution_count": 1,
   "metadata": {},
   "outputs": [],
   "source": [
    "from tools.files import notebook"
   ]
  },
  {
   "cell_type": "code",
   "execution_count": 2,
   "metadata": {},
   "outputs": [
    {
     "data": {
      "text/plain": [
       "'.\\\\Curve_Fitting.ipynb'"
      ]
     },
     "execution_count": 2,
     "metadata": {},
     "output_type": "execute_result"
    }
   ],
   "source": [
    "N = notebook.Notebook()\n",
    "notebooks = N.notebooks\n",
    "notebooks[0]"
   ]
  },
  {
   "cell_type": "code",
   "execution_count": 3,
   "metadata": {},
   "outputs": [
    {
     "data": {
      "text/plain": [
       "['.\\\\Curve_Fitting.ipynb',\n",
       " '.\\\\Eigenvalue_Eigenvector.ipynb',\n",
       " '.\\\\Interpolation2.ipynb',\n",
       " '.\\\\Numerical_Differentiation.ipynb',\n",
       " '.\\\\Numerical_Integration.ipynb',\n",
       " '.\\\\ODE.ipynb',\n",
       " '.\\\\Root_Finding.ipynb',\n",
       " '.\\\\temp.ipynb']"
      ]
     },
     "execution_count": 3,
     "metadata": {},
     "output_type": "execute_result"
    }
   ],
   "source": [
    "notebooks"
   ]
  },
  {
   "cell_type": "code",
   "execution_count": 3,
   "metadata": {},
   "outputs": [
    {
     "name": "stderr",
     "output_type": "stream",
     "text": [
      "Exporting notebooks...: 100%|██████████| 8/8 [00:07<00:00,  1.06it/s]\n"
     ]
    },
    {
     "data": {
      "text/plain": [
       "['.\\\\.\\\\Curve_Fitting.html',\n",
       " '.\\\\.\\\\Eigenvalue_Eigenvector.html',\n",
       " '.\\\\.\\\\Interpolation2.html',\n",
       " '.\\\\.\\\\Numerical_Differentiation.html',\n",
       " '.\\\\.\\\\Numerical_Integration.html',\n",
       " '.\\\\.\\\\ODE.html',\n",
       " '.\\\\.\\\\Root_Finding.html',\n",
       " '.\\\\.\\\\temp.html']"
      ]
     },
     "execution_count": 3,
     "metadata": {},
     "output_type": "execute_result"
    }
   ],
   "source": [
    "N.export_directory()"
   ]
  },
  {
   "cell_type": "code",
   "execution_count": 4,
   "metadata": {},
   "outputs": [],
   "source": [
    "e = ValueError"
   ]
  },
  {
   "cell_type": "code",
   "execution_count": 5,
   "metadata": {},
   "outputs": [
    {
     "data": {
      "text/plain": [
       "True"
      ]
     },
     "execution_count": 5,
     "metadata": {},
     "output_type": "execute_result"
    }
   ],
   "source": [
    "e==ValueError"
   ]
  },
  {
   "cell_type": "code",
   "execution_count": 1,
   "metadata": {},
   "outputs": [],
   "source": [
    "from tools.maths.algebra import CurveFitting\n",
    "import numpy as np"
   ]
  },
  {
   "cell_type": "code",
   "execution_count": 2,
   "metadata": {},
   "outputs": [],
   "source": [
    "X = [1,2,3,4,5,6,7,8,9,10]\n",
    "Y = np.sin(X)\n",
    "cf = CurveFitting()"
   ]
  },
  {
   "cell_type": "code",
   "execution_count": 3,
   "metadata": {},
   "outputs": [
    {
     "ename": "TypeError",
     "evalue": "unsupported operand type(s) for ** or pow(): 'list' and 'int'",
     "output_type": "error",
     "traceback": [
      "\u001b[1;31m---------------------------------------------------------------------------\u001b[0m",
      "\u001b[1;31mTypeError\u001b[0m                                 Traceback (most recent call last)",
      "\u001b[1;32m<ipython-input-3-fd3f958ac3f9>\u001b[0m in \u001b[0;36m<module>\u001b[1;34m\u001b[0m\n\u001b[1;32m----> 1\u001b[1;33m \u001b[0mcf\u001b[0m\u001b[1;33m.\u001b[0m\u001b[0mfit\u001b[0m\u001b[1;33m(\u001b[0m\u001b[0mX\u001b[0m\u001b[1;33m,\u001b[0m \u001b[0mY\u001b[0m\u001b[1;33m,\u001b[0m \u001b[1;33m)\u001b[0m\u001b[1;33m\u001b[0m\u001b[1;33m\u001b[0m\u001b[0m\n\u001b[0m",
      "\u001b[1;32mc:\\Users\\harik\\Desktop\\Project_Sem_3\\Numerical_Methods\\Notes\\tools\\maths\\algebra.py\u001b[0m in \u001b[0;36mfit\u001b[1;34m(self, X, Y, order, plot, stats)\u001b[0m\n\u001b[0;32m     40\u001b[0m                 \u001b[0mXis\u001b[0m\u001b[1;33m[\u001b[0m\u001b[0mi\u001b[0m\u001b[1;33m]\u001b[0m \u001b[1;33m=\u001b[0m \u001b[0mself\u001b[0m\u001b[1;33m.\u001b[0m\u001b[0mn\u001b[0m\u001b[1;33m\u001b[0m\u001b[1;33m\u001b[0m\u001b[0m\n\u001b[0;32m     41\u001b[0m                 \u001b[1;32mcontinue\u001b[0m\u001b[1;33m\u001b[0m\u001b[1;33m\u001b[0m\u001b[0m\n\u001b[1;32m---> 42\u001b[1;33m             \u001b[0mxi\u001b[0m \u001b[1;33m=\u001b[0m \u001b[0mnp\u001b[0m\u001b[1;33m.\u001b[0m\u001b[0msum\u001b[0m\u001b[1;33m(\u001b[0m\u001b[0mX\u001b[0m \u001b[1;33m**\u001b[0m \u001b[0mi\u001b[0m\u001b[1;33m)\u001b[0m\u001b[1;33m\u001b[0m\u001b[1;33m\u001b[0m\u001b[0m\n\u001b[0m\u001b[0;32m     43\u001b[0m             \u001b[0mXis\u001b[0m\u001b[1;33m[\u001b[0m\u001b[0mi\u001b[0m\u001b[1;33m]\u001b[0m \u001b[1;33m=\u001b[0m \u001b[0mxi\u001b[0m\u001b[1;33m\u001b[0m\u001b[1;33m\u001b[0m\u001b[0m\n\u001b[0;32m     44\u001b[0m \u001b[1;33m\u001b[0m\u001b[0m\n",
      "\u001b[1;31mTypeError\u001b[0m: unsupported operand type(s) for ** or pow(): 'list' and 'int'"
     ]
    }
   ],
   "source": [
    "cf.fit(X, Y, )"
   ]
  },
  {
   "cell_type": "code",
   "execution_count": null,
   "metadata": {},
   "outputs": [],
   "source": []
  }
 ],
 "metadata": {
  "interpreter": {
   "hash": "21040c1b576dca9f4f330277849b9f4819256d524dee23c2b89e431027dafe11"
  },
  "kernelspec": {
   "display_name": "Python 3.8.5",
   "language": "python",
   "name": "python3"
  },
  "language_info": {
   "codemirror_mode": {
    "name": "ipython",
    "version": 3
   },
   "file_extension": ".py",
   "mimetype": "text/x-python",
   "name": "python",
   "nbconvert_exporter": "python",
   "pygments_lexer": "ipython3",
   "version": "3.8.5"
  },
  "orig_nbformat": 4
 },
 "nbformat": 4,
 "nbformat_minor": 2
}
