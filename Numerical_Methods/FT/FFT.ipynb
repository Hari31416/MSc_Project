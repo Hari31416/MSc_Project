{
 "cells": [
  {
   "cell_type": "code",
   "execution_count": 25,
   "metadata": {},
   "outputs": [],
   "source": [
    "import numpy as np\n",
    "import scipy.fftpack as fft\n",
    "import matplotlib.pyplot as plt"
   ]
  },
  {
   "cell_type": "markdown",
   "metadata": {},
   "source": [
    "# Definition"
   ]
  },
  {
   "cell_type": "markdown",
   "metadata": {},
   "source": [
    "The discrete Fourier transofrm is defined as:\n",
    "$$\n",
    "X_k = \\sum_{n=0}^{N-1} x_n \\cdot e^{-i 2\\pi k n / N}\n",
    "$$\n",
    "while the inverse discrete Fourier transform is defined as:\n",
    "$$\n",
    "x_n = \\frac{1}{N} \\sum_{k=0}^{N-1} X_k \\cdot e^{i 2\\pi k n / N}\n",
    "$$"
   ]
  },
  {
   "cell_type": "code",
   "execution_count": 30,
   "metadata": {},
   "outputs": [
    {
     "data": {
      "text/plain": [
       "100"
      ]
     },
     "execution_count": 30,
     "metadata": {},
     "output_type": "execute_result"
    }
   ],
   "source": [
    "t = 0.1\n",
    "omega = 2*np.pi/t\n",
    "N = 100\n",
    "x = np.linspace(0, t, N)\n",
    "y = np.sin(omega*x)\n",
    "\n",
    "N = y.shape[0]\n",
    "N"
   ]
  },
  {
   "cell_type": "code",
   "execution_count": 31,
   "metadata": {},
   "outputs": [],
   "source": [
    "n = np.arange(N)\n",
    "k = n.reshape((N, 1))\n",
    "# k, n"
   ]
  },
  {
   "cell_type": "code",
   "execution_count": 21,
   "metadata": {},
   "outputs": [
    {
     "data": {
      "text/plain": [
       "array([[   0,    0,    0, ...,    0,    0,    0],\n",
       "       [   0,    1,    2, ...,   97,   98,   99],\n",
       "       [   0,    2,    4, ...,  194,  196,  198],\n",
       "       ...,\n",
       "       [   0,   97,  194, ..., 9409, 9506, 9603],\n",
       "       [   0,   98,  196, ..., 9506, 9604, 9702],\n",
       "       [   0,   99,  198, ..., 9603, 9702, 9801]])"
      ]
     },
     "execution_count": 21,
     "metadata": {},
     "output_type": "execute_result"
    }
   ],
   "source": [
    "k*n"
   ]
  },
  {
   "cell_type": "code",
   "execution_count": 22,
   "metadata": {},
   "outputs": [
    {
     "data": {
      "text/plain": [
       "array([[1.        +0.j        , 1.        +0.j        ,\n",
       "        1.        +0.j        , ..., 1.        +0.j        ,\n",
       "        1.        +0.j        , 1.        +0.j        ],\n",
       "       [1.        +0.j        , 0.99802673-0.06279052j,\n",
       "        0.9921147 -0.12533323j, ..., 0.98228725+0.18738131j,\n",
       "        0.9921147 +0.12533323j, 0.99802673+0.06279052j],\n",
       "       [1.        +0.j        , 0.9921147 -0.12533323j,\n",
       "        0.96858316-0.24868989j, ..., 0.92977649+0.36812455j,\n",
       "        0.96858316+0.24868989j, 0.9921147 +0.12533323j],\n",
       "       ...,\n",
       "       [1.        +0.j        , 0.98228725+0.18738131j,\n",
       "        0.92977649+0.36812455j, ..., 0.84432793-0.53582679j,\n",
       "        0.92977649-0.36812455j, 0.98228725-0.18738131j],\n",
       "       [1.        +0.j        , 0.9921147 +0.12533323j,\n",
       "        0.96858316+0.24868989j, ..., 0.92977649-0.36812455j,\n",
       "        0.96858316-0.24868989j, 0.9921147 -0.12533323j],\n",
       "       [1.        +0.j        , 0.99802673+0.06279052j,\n",
       "        0.9921147 +0.12533323j, ..., 0.98228725-0.18738131j,\n",
       "        0.9921147 -0.12533323j, 0.99802673-0.06279052j]])"
      ]
     },
     "execution_count": 22,
     "metadata": {},
     "output_type": "execute_result"
    }
   ],
   "source": [
    "M = np.exp(-2j * np.pi * k * n / N)\n",
    "M"
   ]
  },
  {
   "cell_type": "code",
   "execution_count": 23,
   "metadata": {},
   "outputs": [],
   "source": [
    "def DFT_slow(x):\n",
    "    \"\"\"Compute the discrete Fourier Transform of the 1D array x\"\"\"\n",
    "    x = np.asarray(x, dtype=float)\n",
    "    N = x.shape[0]\n",
    "    n = np.arange(N)\n",
    "    k = n.reshape((N, 1))\n",
    "    M = np.exp(-2j * np.pi * k * n / N)\n",
    "    return np.dot(M, x)"
   ]
  },
  {
   "cell_type": "code",
   "execution_count": 24,
   "metadata": {},
   "outputs": [
    {
     "data": {
      "text/plain": [
       "array([250.        ,  80.3945081 ,  40.21709876,  26.83346918,\n",
       "        20.14830746,  16.14255864,  13.47654397,  11.57612085,\n",
       "        10.15422281,   9.05137286,   8.17188883,   7.45488584,\n",
       "         6.8597775 ,   6.35846894,   5.9308956 ,   5.56234663,\n",
       "         5.24179194,   4.96079974,   4.71281494,   4.49266537,\n",
       "         4.2962162 ,   4.12012313,   3.96165279,   3.81855015,\n",
       "         3.68893901,   3.57124637,   3.46414431,   3.36650481,\n",
       "         3.27736421,   3.19589509,   3.12138378,   3.05321223,\n",
       "         2.99084331,   2.93380879,   2.8816995 ,   2.83415717,\n",
       "         2.79086762,   2.75155521,   2.71597805,   2.68392405,\n",
       "         2.65520764,   2.62966691,   2.60716129,   2.58756958,\n",
       "         2.57078825,   2.55673012,   2.54532316,   2.53650964,\n",
       "         2.53024539,   2.5264992 ,   2.52525253,   2.5264992 ,\n",
       "         2.53024539,   2.53650964,   2.54532316,   2.55673012,\n",
       "         2.57078825,   2.58756958,   2.60716129,   2.62966691,\n",
       "         2.65520764,   2.68392405,   2.71597805,   2.75155521,\n",
       "         2.79086762,   2.83415717,   2.8816995 ,   2.93380879,\n",
       "         2.99084331,   3.05321223,   3.12138378,   3.19589509,\n",
       "         3.27736421,   3.36650481,   3.46414431,   3.57124637,\n",
       "         3.68893901,   3.81855015,   3.96165279,   4.12012313,\n",
       "         4.2962162 ,   4.49266537,   4.71281494,   4.96079974,\n",
       "         5.24179194,   5.56234663,   5.9308956 ,   6.35846894,\n",
       "         6.8597775 ,   7.45488584,   8.17188883,   9.05137286,\n",
       "        10.15422281,  11.57612085,  13.47654397,  16.14255864,\n",
       "        20.14830746,  26.83346918,  40.21709876,  80.3945081 ])"
      ]
     },
     "execution_count": 24,
     "metadata": {},
     "output_type": "execute_result"
    }
   ],
   "source": [
    "np.abs(DFT_slow(x))"
   ]
  },
  {
   "cell_type": "code",
   "execution_count": 32,
   "metadata": {},
   "outputs": [
    {
     "data": {
      "text/plain": [
       "(0.0, 10.0)"
      ]
     },
     "execution_count": 32,
     "metadata": {},
     "output_type": "execute_result"
    },
    {
     "data": {
      "image/png": "[encoded data removed]",
      "text/plain": [
       "<Figure size 432x288 with 1 Axes>"
      ]
     },
     "metadata": {
      "needs_background": "light"
     },
     "output_type": "display_data"
    }
   ],
   "source": [
    "plt.plot(k, np.abs(DFT_slow(y)))\n",
    "plt.xlim(0, 10)"
   ]
  },
  {
   "cell_type": "code",
   "execution_count": null,
   "metadata": {},
   "outputs": [],
   "source": []
  }
 ],
 "metadata": {
  "kernelspec": {
   "display_name": "Python 3.9.12 ('data-science')",
   "language": "python",
   "name": "python3"
  },
  "language_info": {
   "codemirror_mode": {
    "name": "ipython",
    "version": 3
   },
   "file_extension": ".py",
   "mimetype": "text/x-python",
   "name": "python",
   "nbconvert_exporter": "python",
   "pygments_lexer": "ipython3",
   "version": "3.9.12"
  },
  "orig_nbformat": 4,
  "vscode": {
   "interpreter": {
    "hash": "2efee1efa502125d01e6b4768ba06d9453d29f3642bfd14ad5d4a769de82e88c"
   }
  }
 },
 "nbformat": 4,
 "nbformat_minor": 2
}
