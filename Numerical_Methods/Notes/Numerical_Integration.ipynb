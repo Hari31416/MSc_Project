{
 "cells": [
  {
   "cell_type": "markdown",
   "metadata": {},
   "source": [
    "# Imports"
   ]
  },
  {
   "cell_type": "code",
   "execution_count": 1,
   "metadata": {},
   "outputs": [],
   "source": [
    "import numpy as np\n",
    "import matplotlib.pyplot as plt"
   ]
  },
  {
   "cell_type": "markdown",
   "metadata": {},
   "source": [
    "# Numerical Integration"
   ]
  },
  {
   "cell_type": "markdown",
   "metadata": {},
   "source": [
    "The goal is to solve a definite integral without solving analytically. That is, to solve \n",
    "$$\n",
    "I = \\int_a^b f(x) dx\n",
    "$$\n"
   ]
  },
  {
   "cell_type": "markdown",
   "metadata": {},
   "source": [
    "The integral can also be written as:\n",
    "$$\n",
    "\\int_a^b f(x) dx = \\lim_{n\\to \\infty} \\sum_{i=1}^n f(x_k)\\Delta x \\\\\n",
    "\\text{where} \\\\\n",
    "x_k = a + (b-a)k/n \\\\\n",
    "\\Delta x = (b-a)/n\n",
    "$$"
   ]
  },
  {
   "cell_type": "markdown",
   "metadata": {},
   "source": [
    "Let's take an example. The function $f(x)$ is defined as:\n",
    "$$\n",
    "f(x) = 3x^2\n",
    "$$\n",
    "and the limits are $a = 0$ and $b = 1$."
   ]
  },
  {
   "cell_type": "code",
   "execution_count": 22,
   "metadata": {},
   "outputs": [],
   "source": [
    "f = lambda x: 3*x**2\n",
    "F = lambda x: x**3"
   ]
  },
  {
   "cell_type": "markdown",
   "metadata": {},
   "source": [
    "We'll be using another function. This time\n",
    "$$\n",
    "g(x) = \\cos(x)\n",
    "$$\n",
    "We'll be taking the limit from 0 to 1 (again!). The value of I is:\n",
    "$$\n",
    "I = \\sin(1)-\\sin(0) = 0.8414709848078965\n",
    "$$\n"
   ]
  },
  {
   "cell_type": "code",
   "execution_count": 45,
   "metadata": {},
   "outputs": [],
   "source": [
    "g = lambda x: np.cos(x)\n",
    "G = lambda x: np.sin(x)"
   ]
  },
  {
   "cell_type": "code",
   "execution_count": 60,
   "metadata": {},
   "outputs": [],
   "source": [
    "#error\n",
    "def error(y_calc, a=0, b=1, int_fn= F):\n",
    "    y_true = int_fn(b) - int_fn(a)\n",
    "    absolute_error = np.abs(y_true - y_calc)\n",
    "    relative_error = absolute_error / y_true\n",
    "    return absolute_error, relative_error"
   ]
  },
  {
   "cell_type": "code",
   "execution_count": 61,
   "metadata": {},
   "outputs": [],
   "source": [
    "def integral_as_sum(f, a=0, b=1, n=100, report_error=True, **kwargs):\n",
    "    h = (b-a)/n\n",
    "    sum = 0\n",
    "    for i in range(n):\n",
    "        sum += f(a+i*h)\n",
    "    y_true = sum*h\n",
    "    if report_error:\n",
    "        absolute_error, relative_error = error(y_true, a, b, **kwargs)\n",
    "        print(\"Absolute error:\", absolute_error)\n",
    "        print(\"Relative error:\", relative_error)\n",
    "    return y_true\n"
   ]
  },
  {
   "cell_type": "code",
   "execution_count": 62,
   "metadata": {},
   "outputs": [
    {
     "name": "stdout",
     "output_type": "stream",
     "text": [
      "Absolute error: 0.014949999999999908\n",
      "Relative error: 0.014949999999999908\n"
     ]
    },
    {
     "data": {
      "text/plain": [
       "0.9850500000000001"
      ]
     },
     "execution_count": 62,
     "metadata": {},
     "output_type": "execute_result"
    }
   ],
   "source": [
    "integral_as_sum(f, a=0, b=1, n=100)"
   ]
  },
  {
   "cell_type": "code",
   "execution_count": 63,
   "metadata": {},
   "outputs": [
    {
     "name": "stdout",
     "output_type": "stream",
     "text": [
      "Absolute error: 0.1435790151921036\n",
      "Relative error: 0.1706285989467384\n"
     ]
    },
    {
     "data": {
      "text/plain": [
       "0.9850500000000001"
      ]
     },
     "execution_count": 63,
     "metadata": {},
     "output_type": "execute_result"
    }
   ],
   "source": [
    "integral_as_sum(f, a=0, b=1, n=100, int_fn=G)"
   ]
  },
  {
   "cell_type": "markdown",
   "metadata": {},
   "source": [
    "Of course, this method is very time-consuming as well as not very accurate. What follows, we'll see some more efficient methods to solve this problem."
   ]
  },
  {
   "cell_type": "markdown",
   "metadata": {},
   "source": [
    "## Newton-Cotes Integration"
   ]
  },
  {
   "cell_type": "markdown",
   "metadata": {},
   "source": [
    "* Newton-Cotes formulas are the most common numerical integration schemes.\n",
    "* It replaces a complicated function with an approximating function that is easy to\n",
    "integrate numerically. We write $\\int_a^b f(x) dx$ as $\\int_a^b f_n(x) dx$ where $f_n$ is a polynomial of degree $n$:\n",
    "$$\n",
    "f_n(x) = a_0 + a_1 x + a_2 x^2 + \\cdots + a_n x^n\n",
    "$$"
   ]
  },
  {
   "cell_type": "markdown",
   "metadata": {},
   "source": [
    "### Trapezoidal Rule"
   ]
  },
  {
   "cell_type": "markdown",
   "metadata": {},
   "source": [
    "The trapezoidal rule is the first order example of the Newton-Cotes closed integration\n",
    "formulas. We approximate the integral as $I = \\text{width} \\times \\text{average height}$. That is:\n",
    "$$\n",
    "I = (b-a)\\frac{f(a) + f(b)}{2}\n",
    "$$\n"
   ]
  },
  {
   "cell_type": "markdown",
   "metadata": {},
   "source": [
    "Of course, it won't be very accurate."
   ]
  },
  {
   "cell_type": "code",
   "execution_count": 65,
   "metadata": {},
   "outputs": [
    {
     "name": "stdout",
     "output_type": "stream",
     "text": [
      "Absolute error: 0.5\n",
      "Relative error: 0.5\n"
     ]
    },
    {
     "data": {
      "text/plain": [
       "1.5"
      ]
     },
     "execution_count": 65,
     "metadata": {},
     "output_type": "execute_result"
    }
   ],
   "source": [
    "def simple_trapezoid(f, a, b, report_error=True, **kwargs):\n",
    "    y_true =  ((b-a)*(f(a)+f(b)))/2\n",
    "    if report_error:\n",
    "        absolute_error, relative_error = error(y_true, a, b, **kwargs)\n",
    "        print(\"Absolute error:\", absolute_error)\n",
    "        print(\"Relative error:\", relative_error)\n",
    "    return y_true\n",
    "simple_trapezoid(f, 0, 1)"
   ]
  },
  {
   "cell_type": "code",
   "execution_count": 66,
   "metadata": {},
   "outputs": [
    {
     "name": "stdout",
     "output_type": "stream",
     "text": [
      "Absolute error: 0.6585290151921035\n",
      "Relative error: 0.7825926586671819\n"
     ]
    },
    {
     "data": {
      "text/plain": [
       "1.5"
      ]
     },
     "execution_count": 66,
     "metadata": {},
     "output_type": "execute_result"
    }
   ],
   "source": [
    "simple_trapezoid(f, 0, 1, int_fn=G)"
   ]
  },
  {
   "cell_type": "markdown",
   "metadata": {},
   "source": [
    "### Multiple-Application Trapezoidal Rule"
   ]
  },
  {
   "cell_type": "markdown",
   "metadata": {},
   "source": [
    "The error in using the single trapezoidal rule in the previous problem was 50%. One way to improve the accuracy of the trapezoidal rule is to divide the integration\n",
    "interval from a to b into a number of segments and apply the method to each segment. For this, we follow as:\n",
    "$$\n",
    "h = (b-a)/n\\\\\n",
    "I = h\\frac{f(x_0)+f({x_1})}{2} + h\\frac{f(x_1)+f({x_2})}{2} + \\cdots + h\\frac{f(x_n-1)+f({x_n})}{2}\\\\\n",
    "\\text{where} \\\\\n",
    "x_0 = a\\\\\n",
    "x_1 = a + h\\\\\n",
    "\\vdots \\\\\n",
    "x_n = b\\\\\n",
    "\\text{Simplifying the above gives} \\\\\n",
    "I = h\\left[\\frac{f(a)+ 2\\sum_{i=1}^nf(x_i)+ f(b)}{2n}\\right]\n",
    "$$"
   ]
  },
  {
   "cell_type": "code",
   "execution_count": 67,
   "metadata": {},
   "outputs": [],
   "source": [
    "def multi_trapzoid(f, a, b, n, report_error=True, **kwargs):\n",
    "    h = (b-a)/n\n",
    "    sum = 0\n",
    "    sum+=f(a)\n",
    "    sum+=f(b)\n",
    "    for i in range(1, n):\n",
    "        sum += 2*f(a+i*h)\n",
    "    y_true = sum*h/2\n",
    "    if report_error:\n",
    "        absolute_error, relative_error = error(y_true, a, b, **kwargs)\n",
    "        print(\"Absolute error:\", absolute_error)\n",
    "        print(\"Relative error:\", relative_error)\n",
    "    return y_true"
   ]
  },
  {
   "cell_type": "code",
   "execution_count": 68,
   "metadata": {},
   "outputs": [
    {
     "name": "stdout",
     "output_type": "stream",
     "text": [
      "Absolute error: 0.0050000000000001155\n",
      "Relative error: 0.0050000000000001155\n"
     ]
    },
    {
     "data": {
      "text/plain": [
       "1.0050000000000001"
      ]
     },
     "execution_count": 68,
     "metadata": {},
     "output_type": "execute_result"
    }
   ],
   "source": [
    "multi_trapzoid(f, 0, 1, n=10)"
   ]
  },
  {
   "cell_type": "code",
   "execution_count": 69,
   "metadata": {},
   "outputs": [
    {
     "name": "stdout",
     "output_type": "stream",
     "text": [
      "Absolute error: 0.1635290151921036\n",
      "Relative error: 0.19433708130701197\n"
     ]
    },
    {
     "data": {
      "text/plain": [
       "1.0050000000000001"
      ]
     },
     "execution_count": 69,
     "metadata": {},
     "output_type": "execute_result"
    }
   ],
   "source": [
    "multi_trapzoid(f, 0, 1, n=10, int_fn=G)"
   ]
  },
  {
   "cell_type": "markdown",
   "metadata": {},
   "source": [
    "Even with $n=10$ we get a significant decrease in the error. The error is just about 0.5% for f and 16% for g."
   ]
  },
  {
   "cell_type": "markdown",
   "metadata": {},
   "source": [
    "### Simpson's Rule"
   ]
  },
  {
   "cell_type": "markdown",
   "metadata": {},
   "source": [
    "* Another way to improve the accuracy of the trapezoidal rule is to use higher order\n",
    "polynomial in function approximation.\n",
    "* As compared with Trapezoidal rule (function is approximated by first order\n",
    "polynomial); Simpson’s 1/3 rule use second-order Lagrange polynomial for each\n",
    "integrant segment.\n",
    "* Simpson’s 3/8 rule use third-order Lagrange polynomial for each integrant segment.\n",
    "2nd order (Simpson’s 1/3) 3rd order (Simpson’s 3/8)\n"
   ]
  },
  {
   "cell_type": "markdown",
   "metadata": {},
   "source": [
    "### Simpson's 1/3 Rule"
   ]
  },
  {
   "cell_type": "markdown",
   "metadata": {},
   "source": [
    "Here, the function is approximated by second-order Lagrange polynomial. Using this, the average height of the trapezoid is \n",
    "$$\n",
    "\\frac{f(x_0)+4f(x_1)+f(x_2)}{6}\n",
    "$$\n",
    "Hence the integral becomes:\n",
    "$$\n",
    "I = (b-a)\\frac{f(x_0)+4f(x_1)+f(x_2)}{6}\n",
    "$$"
   ]
  },
  {
   "cell_type": "markdown",
   "metadata": {},
   "source": [
    "Here, $x_0 = a, x_2=b \\text{ and } x_1 = (x_0+x_2)/2$."
   ]
  },
  {
   "cell_type": "code",
   "execution_count": 70,
   "metadata": {},
   "outputs": [],
   "source": [
    "def simpson13(f, a, b, report_error=True, **kwargs):\n",
    "    numerator = f(a)+f(b)+ 4*f((a+b)/2)\n",
    "    denominator = 6\n",
    "    y_true = (b-a)*numerator/denominator\n",
    "    if report_error:\n",
    "        absolute_error, relative_error = error(y_true, a, b, **kwargs)\n",
    "        print(\"Absolute error:\", absolute_error)\n",
    "        print(\"Relative error:\", relative_error)\n",
    "    return y_true\n"
   ]
  },
  {
   "cell_type": "code",
   "execution_count": 71,
   "metadata": {},
   "outputs": [
    {
     "name": "stdout",
     "output_type": "stream",
     "text": [
      "Absolute error: 0.0\n",
      "Relative error: 0.0\n"
     ]
    },
    {
     "data": {
      "text/plain": [
       "1.0"
      ]
     },
     "execution_count": 71,
     "metadata": {},
     "output_type": "execute_result"
    }
   ],
   "source": [
    "simpson13(f, 0, 1)"
   ]
  },
  {
   "cell_type": "code",
   "execution_count": 80,
   "metadata": {},
   "outputs": [
    {
     "name": "stdout",
     "output_type": "stream",
     "text": [
      "Absolute error: 0.00030110743037536913\n",
      "Relative error: 0.0003578345965715151\n"
     ]
    },
    {
     "data": {
      "text/plain": [
       "0.8417720922382719"
      ]
     },
     "execution_count": 80,
     "metadata": {},
     "output_type": "execute_result"
    }
   ],
   "source": [
    "simpson13(g, 0, 1, report_error=True, int_fn=G)"
   ]
  },
  {
   "cell_type": "markdown",
   "metadata": {},
   "source": [
    "Great! The error is reduced significantly."
   ]
  },
  {
   "cell_type": "markdown",
   "metadata": {},
   "source": [
    "#### Multiple-Application Simpson’s 1/3 Rule"
   ]
  },
  {
   "cell_type": "markdown",
   "metadata": {},
   "source": [
    "The error in Simpson's 1/3 rule can be decreased by using multiple-application. In this case, one gets:\n",
    "$$\n",
    "h = (b-a)/n\\\\\n",
    "\\text{The average height of the trapezoid becomes} \\\\\n",
    "\\frac{f(a)+4\\sum_{i=1,3,5}^{n-1}f(x_i)+2\\sum_{i=2,4,6}^{n-2}f(x_i) + f(b)}{3n}\\\\\n",
    "\\text{Hence the integral becomes} \\\\\n",
    "I = \\frac{h}{3} \\left[f(a)+4\\sum_{i=1,3,5}^{n-1}f(x_i)+2\\sum_{i=2,4,6}^{n-2}f(x_i) + f(b)\\right]\n",
    "$$"
   ]
  },
  {
   "cell_type": "markdown",
   "metadata": {},
   "source": [
    "Let's implement this method."
   ]
  },
  {
   "cell_type": "code",
   "execution_count": 73,
   "metadata": {},
   "outputs": [],
   "source": [
    "def simpson13multi(f, a, b, n, report_error=True, **kwargs):\n",
    "    h = (b-a)/n\n",
    "    sum = 0\n",
    "    sum+=f(a)\n",
    "    sum+=f(b)\n",
    "    for i in range(1, n, 2):\n",
    "        sum += 4*f(a+i*h)\n",
    "    for i in range(2, n, 2):\n",
    "        sum += 2*f(a+i*h)\n",
    "    y_true = sum*h/3\n",
    "    if report_error:\n",
    "        absolute_error, relative_error = error(y_true, a, b, **kwargs)\n",
    "        print(\"Absolute error:\", absolute_error)\n",
    "        print(\"Relative error:\", relative_error)\n",
    "    return y_true"
   ]
  },
  {
   "cell_type": "code",
   "execution_count": 74,
   "metadata": {},
   "outputs": [
    {
     "name": "stdout",
     "output_type": "stream",
     "text": [
      "Absolute error: 2.220446049250313e-16\n",
      "Relative error: 2.220446049250313e-16\n"
     ]
    },
    {
     "data": {
      "text/plain": [
       "1.0000000000000002"
      ]
     },
     "execution_count": 74,
     "metadata": {},
     "output_type": "execute_result"
    }
   ],
   "source": [
    "simpson13multi(f, 0, 1, n=10)"
   ]
  },
  {
   "cell_type": "code",
   "execution_count": 76,
   "metadata": {},
   "outputs": [
    {
     "name": "stdout",
     "output_type": "stream",
     "text": [
      "Absolute error: 4.6804099407271593e-07\n",
      "Relative error: 5.562176266595423e-07\n"
     ]
    },
    {
     "data": {
      "text/plain": [
       "0.8414714528488906"
      ]
     },
     "execution_count": 76,
     "metadata": {},
     "output_type": "execute_result"
    }
   ],
   "source": [
    "simpson13multi(g, 0, 1, n=10, int_fn=G)"
   ]
  },
  {
   "cell_type": "markdown",
   "metadata": {},
   "source": [
    "The error is now in orders of 1e-7!"
   ]
  },
  {
   "cell_type": "markdown",
   "metadata": {},
   "source": [
    "### Simpson's 3/8 Rule"
   ]
  },
  {
   "cell_type": "markdown",
   "metadata": {},
   "source": [
    "In Simpson's 3/8 rule, the function is approximated by third-order Lagrange polynomial. Using this, the average height of the trapezoid is\n",
    "$$\n",
    "\\frac{f(x_0)+3f(x_1)+3f(x_2)+f(x_3)}{8}\n",
    "$$\n",
    "so, the integral becomes:\n",
    "$$\n",
    "I = (b-a)\\frac{f(x_0)+3f(x_1)+3f(x_2)+f(x_3)}{8}\n",
    "$$"
   ]
  },
  {
   "cell_type": "markdown",
   "metadata": {},
   "source": [
    "Let's implement this method."
   ]
  },
  {
   "cell_type": "code",
   "execution_count": 87,
   "metadata": {},
   "outputs": [],
   "source": [
    "def simpson38(f, a, b, report_error=True, **kwargs):\n",
    "    h = (b-a)/3\n",
    "    numerator = f(a)+3*f(a+h)+3*f(a+2*h)+f(b)\n",
    "    denominator = 6\n",
    "    y_true = (b-a)*numerator/denominator\n",
    "    if report_error:\n",
    "        absolute_error, relative_error = error(y_true, a, b, **kwargs)\n",
    "        print(\"Absolute error:\", absolute_error)\n",
    "        print(\"Relative error:\", relative_error)\n",
    "    return y_true"
   ]
  },
  {
   "cell_type": "code",
   "execution_count": 88,
   "metadata": {},
   "outputs": [
    {
     "name": "stdout",
     "output_type": "stream",
     "text": [
      "Absolute error: 0.33333333333333326\n",
      "Relative error: 0.33333333333333326\n"
     ]
    },
    {
     "data": {
      "text/plain": [
       "1.3333333333333333"
      ]
     },
     "execution_count": 88,
     "metadata": {},
     "output_type": "execute_result"
    }
   ],
   "source": [
    "simpson38(f, 0, 1)"
   ]
  },
  {
   "cell_type": "code",
   "execution_count": 89,
   "metadata": {},
   "outputs": [
    {
     "name": "stdout",
     "output_type": "stream",
     "text": [
      "Absolute error: 0.28066816971596964\n",
      "Relative error: 0.33354467923816145\n"
     ]
    },
    {
     "data": {
      "text/plain": [
       "1.1221391545238661"
      ]
     },
     "execution_count": 89,
     "metadata": {},
     "output_type": "execute_result"
    }
   ],
   "source": [
    "simpson38(g, 0, 1, int_fn=G)"
   ]
  },
  {
   "cell_type": "markdown",
   "metadata": {},
   "source": [
    "#### Multiple-Application Simpson’s 3/8 Rule"
   ]
  },
  {
   "cell_type": "markdown",
   "metadata": {},
   "source": [
    "To use multiple Simpson's 3/8 rule, we need to implement the following:\n",
    "$$\n",
    "h = (b-a)/n\n",
    "$$\n",
    "The average height of the trapezoid is\n",
    "$$\n",
    "3\\frac{f(a)+3\\sum_{i\\ne 3k}^{n-1}f(x_i)+2\\sum_{i=1}^{n/3-1}f(x_{3i}) + f(b)}{8n}\n",
    "$$\n",
    "hence the integral becomes:\n",
    "$$\n",
    "I = \\frac{3h}{8} \\left[f(a)+3\\sum_{i\\ne 3k}^{n-1}f(x_i)+2\\sum_{i=1}^{n/3-1}f(x_{3i}) + f(b)\\right]\n",
    "$$"
   ]
  },
  {
   "cell_type": "code",
   "execution_count": 90,
   "metadata": {},
   "outputs": [],
   "source": [
    "def simpson38multi(f, a, b, n, report_error=True, **kwargs):\n",
    "    h = (b-a)/n\n",
    "    sum = 0\n",
    "    sum+=f(a)\n",
    "    sum+=f(b)\n",
    "    for i in range(1, n):\n",
    "        if n%3 == 0:\n",
    "            sum += 2*f(a+i*h)\n",
    "            continue\n",
    "        sum += 3*f(a+i*h)\n",
    "    y_true = 3*h*sum/8\n",
    "    if report_error:\n",
    "        absolute_error, relative_error = error(y_true, a, b, **kwargs)\n",
    "        print(\"Absolute error:\", absolute_error)\n",
    "        print(\"Relative error:\", relative_error)\n",
    "    return y_true\n"
   ]
  },
  {
   "cell_type": "code",
   "execution_count": 91,
   "metadata": {},
   "outputs": [
    {
     "name": "stdout",
     "output_type": "stream",
     "text": [
      "Absolute error: 0.0743750000000003\n",
      "Relative error: 0.0743750000000003\n"
     ]
    },
    {
     "data": {
      "text/plain": [
       "1.0743750000000003"
      ]
     },
     "execution_count": 91,
     "metadata": {},
     "output_type": "execute_result"
    }
   ],
   "source": [
    "simpson38multi(f, 0, 1, n=10)"
   ]
  },
  {
   "cell_type": "code",
   "execution_count": 92,
   "metadata": {},
   "outputs": [
    {
     "name": "stdout",
     "output_type": "stream",
     "text": [
      "Absolute error: 0.07551419430654838\n",
      "Relative error: 0.08974069893068015\n"
     ]
    },
    {
     "data": {
      "text/plain": [
       "0.9169851791144449"
      ]
     },
     "execution_count": 92,
     "metadata": {},
     "output_type": "execute_result"
    }
   ],
   "source": [
    "simpson38multi(g, 0, 1, n=10, int_fn=G)"
   ]
  },
  {
   "cell_type": "markdown",
   "metadata": {},
   "source": [
    "### Gauss Quadrature"
   ]
  },
  {
   "cell_type": "code",
   "execution_count": null,
   "metadata": {},
   "outputs": [],
   "source": []
  }
 ],
 "metadata": {
  "interpreter": {
   "hash": "de718a8ad747ee7ac49283422c9dd388de3f9fba8ab4214a5db121921f189761"
  },
  "kernelspec": {
   "display_name": "Python 3.9.12",
   "language": "python",
   "name": "python3"
  },
  "language_info": {
   "codemirror_mode": {
    "name": "ipython",
    "version": 3
   },
   "file_extension": ".py",
   "mimetype": "text/x-python",
   "name": "python",
   "nbconvert_exporter": "python",
   "pygments_lexer": "ipython3",
   "version": "3.9.12"
  },
  "orig_nbformat": 4
 },
 "nbformat": 4,
 "nbformat_minor": 2
}
