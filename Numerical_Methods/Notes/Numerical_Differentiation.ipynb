{
 "cells": [
  {
   "cell_type": "markdown",
   "metadata": {},
   "source": [
    "# Imports"
   ]
  },
  {
   "cell_type": "code",
   "execution_count": 1,
   "metadata": {},
   "outputs": [],
   "source": [
    "import numpy as np\n",
    "import matplotlib.pyplot as plt"
   ]
  },
  {
   "cell_type": "markdown",
   "metadata": {},
   "source": [
    "# Differentiation"
   ]
  },
  {
   "cell_type": "markdown",
   "metadata": {},
   "source": [
    "Differentiation of a function $f(x)$ is defined as:\n",
    "$$\n",
    "\\frac{df}{dx} = \\lim_{h\\to0} \\frac{f(x+h) - f(x)}{h}\n",
    "$$"
   ]
  },
  {
   "cell_type": "markdown",
   "metadata": {},
   "source": [
    "## Differentiation Using Taylor Series"
   ]
  },
  {
   "cell_type": "markdown",
   "metadata": {},
   "source": [
    "Taylor series gives a mean of approximationa function on a point $x+h$ (here denoted by $x_{i+1}$) as the value the function at $x$ and its derivative at $x$. The Taylor series is:\n",
    "$$\n",
    "f(x_{i+1}) = f(x_i) + \\frac{f'(x_i) (x_{i+1}-x_i)}{1!} + \\frac{f''(x_i) (x_{i+1}-x_i)^2}{2!} + \\cdots + \\frac{f^{(n)}(x_i) (x_{i+1}-x_i)^n}{n!}+\\cdots\n",
    "$$"
   ]
  },
  {
   "cell_type": "markdown",
   "metadata": {},
   "source": [
    "Using the above formula, the derivative of a function can be approximated."
   ]
  },
  {
   "cell_type": "markdown",
   "metadata": {},
   "source": [
    "### Forwards Difference"
   ]
  },
  {
   "cell_type": "markdown",
   "metadata": {},
   "source": [
    "#### First Order Derivative"
   ]
  },
  {
   "cell_type": "markdown",
   "metadata": {},
   "source": [
    "Forward difference formula for the first order derivative is:\n",
    "$$\n",
    "f'(x_i) = \\frac{-f(x_{i+2}) + 4f(x_{i+1}) - 3f(x_i)}{2h} + O(h^2)\n",
    "$$"
   ]
  },
  {
   "cell_type": "markdown",
   "metadata": {},
   "source": [
    "The above relation has an error of order $h^2$."
   ]
  },
  {
   "cell_type": "markdown",
   "metadata": {},
   "source": [
    "#### Second Order Derivative"
   ]
  },
  {
   "cell_type": "markdown",
   "metadata": {},
   "source": [
    "The second order derivative is:\n",
    "$$\n",
    "f''(x_i) = \\frac{f(x_{i+3}) + 4f(x_{i+2}) - 5f(x_{i+1}) + 2f(x_i)}{h^2} + O(h^2)\n",
    "$$"
   ]
  },
  {
   "cell_type": "markdown",
   "metadata": {},
   "source": [
    "Again, the error is of order $h^2$."
   ]
  },
  {
   "cell_type": "markdown",
   "metadata": {},
   "source": [
    "### Backwards Difference"
   ]
  },
  {
   "cell_type": "markdown",
   "metadata": {},
   "source": [
    "#### First Order Derivative"
   ]
  },
  {
   "cell_type": "markdown",
   "metadata": {},
   "source": [
    "First order derivative is:\n",
    "$$\n",
    "f'(x_i) = \\frac{3f(x_{i}) - 4f(x_{i-1}) + 3f(x_{i-2})}{2h} + O(h^2)\n",
    "$$"
   ]
  },
  {
   "cell_type": "markdown",
   "metadata": {},
   "source": [
    "#### Second Order Derivative"
   ]
  },
  {
   "cell_type": "markdown",
   "metadata": {},
   "source": [
    "The second order derivative is:\n",
    "$$\n",
    "f''(x_i) = \\frac{2f(x_{i}) -5f(x_{i-1}) + 4f(x_{i-2}) -f(x_{i-3})}{h^2} + O(h^2)\n",
    "$$"
   ]
  },
  {
   "cell_type": "markdown",
   "metadata": {},
   "source": [
    "### Central Difference"
   ]
  },
  {
   "cell_type": "markdown",
   "metadata": {},
   "source": [
    "The central difference formula can also be derived from Taylor expansion. "
   ]
  },
  {
   "cell_type": "markdown",
   "metadata": {},
   "source": [
    "#### First Order Derivative"
   ]
  },
  {
   "cell_type": "markdown",
   "metadata": {},
   "source": [
    "The first order derivative is:\n",
    "$$\n",
    "f'(x_i) = \\frac{f(x_{i+1}) - f(x_{i-1})}{2h} + O(h^2)\n",
    "$$\n",
    "here the error is of order $h^2$."
   ]
  },
  {
   "cell_type": "markdown",
   "metadata": {},
   "source": [
    "We can also derive a formula with the error of order $h^4$. The formula is:\n",
    "$$\n",
    "f'(x_i) = \\frac{-f(x_{i+2})+8f(x_{i+1}) -8f(x_{i-1})+f(x_{i-2})}{12h} + O(h^4)\n",
    "$$"
   ]
  },
  {
   "cell_type": "markdown",
   "metadata": {},
   "source": [
    "#### Second Order Derivative"
   ]
  },
  {
   "cell_type": "markdown",
   "metadata": {},
   "source": [
    "A formula for second order derivative is with an error of $O(h^2)$ is:\n",
    "$$\n",
    "f''(x_i) = \\frac{f(x_{i+1}) - 2f(x_{i}) + f(x_{i-1})}{h^2} + O(h^2)\n",
    "$$"
   ]
  },
  {
   "cell_type": "markdown",
   "metadata": {},
   "source": [
    "While, for error of order $h^4$, the formula is:\n",
    "$$\n",
    "f''(x_i) = \\frac{-f(x_{i+2}) + 16f(x_{i+1}) - 30f(x_{i}) + 16f(x_{i-1}) -f(x_{i-2})}{h^2} + O(h^4)\n",
    "$$"
   ]
  },
  {
   "cell_type": "markdown",
   "metadata": {},
   "source": [
    "## Implementation with Examples"
   ]
  },
  {
   "cell_type": "markdown",
   "metadata": {},
   "source": []
  }
 ],
 "metadata": {
  "interpreter": {
   "hash": "de718a8ad747ee7ac49283422c9dd388de3f9fba8ab4214a5db121921f189761"
  },
  "kernelspec": {
   "display_name": "Python 3.9.12",
   "language": "python",
   "name": "python3"
  },
  "language_info": {
   "codemirror_mode": {
    "name": "ipython",
    "version": 3
   },
   "file_extension": ".py",
   "mimetype": "text/x-python",
   "name": "python",
   "nbconvert_exporter": "python",
   "pygments_lexer": "ipython3",
   "version": "3.9.12"
  },
  "orig_nbformat": 4
 },
 "nbformat": 4,
 "nbformat_minor": 2
}
