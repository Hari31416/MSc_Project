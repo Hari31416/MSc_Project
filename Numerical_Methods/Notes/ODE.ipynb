{
 "cells": [
  {
   "cell_type": "markdown",
   "metadata": {},
   "source": [
    "# Imports"
   ]
  },
  {
   "cell_type": "markdown",
   "metadata": {},
   "source": [
    "# ODE"
   ]
  },
  {
   "cell_type": "markdown",
   "metadata": {},
   "source": [
    "## Taylor Series"
   ]
  },
  {
   "cell_type": "markdown",
   "metadata": {},
   "source": [
    "Taylor series are expansions of a function $f(x)$ by some finite distance $dx$ to $f(x+dx)$.\n",
    "* In essence, the Taylor series provides a means to predict a function value at one point\n",
    "in terms of the function value and its derivatives at another point.\n",
    "* In particular, the theorem states that any smooth function can be approximated as a\n",
    "polynomial:\n",
    "$$\n",
    "f(x_{i+1}) = f(x_i)+f^{'}(x_i)h + f^{''}(x_i)\\frac{h^2}{2!} + \\ldots + f^{n}(x_i)\\frac{h^n}{n!}\n",
    "$$"
   ]
  },
  {
   "cell_type": "markdown",
   "metadata": {},
   "source": [
    "We can use this to get the value of a function at a given given point given a deffirential equation."
   ]
  },
  {
   "cell_type": "markdown",
   "metadata": {},
   "source": [
    "Let the ODE be:\n",
    "$$\n",
    "\\frac{dy}{dx} = f(x,y) = x - y^2\n",
    "$$\n",
    "Given initial conditions $y(0) = 1$ find $y(0.1)$ using the Taylor series expansion."
   ]
  },
  {
   "cell_type": "markdown",
   "metadata": {},
   "source": [
    "### Example"
   ]
  },
  {
   "cell_type": "markdown",
   "metadata": {},
   "source": [
    "## Picard Method"
   ]
  },
  {
   "cell_type": "markdown",
   "metadata": {},
   "source": [
    "The aim is to solve the ODE using the integration. Given:\n",
    "$$\n",
    "\\frac{dy}{dx} = f(x,y)\n",
    "$$\n",
    "and limit being $y_0$ to $y$."
   ]
  }
 ],
 "metadata": {
  "language_info": {
   "name": "python"
  },
  "orig_nbformat": 4
 },
 "nbformat": 4,
 "nbformat_minor": 2
}
