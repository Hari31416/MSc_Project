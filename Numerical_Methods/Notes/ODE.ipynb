{
 "cells": [
  {
   "cell_type": "markdown",
   "metadata": {},
   "source": [
    "# Imports"
   ]
  },
  {
   "cell_type": "code",
   "execution_count": 2,
   "metadata": {},
   "outputs": [],
   "source": [
    "import numpy as np\n",
    "import matplotlib.pyplot as plt"
   ]
  },
  {
   "cell_type": "markdown",
   "metadata": {},
   "source": [
    "# ODE"
   ]
  },
  {
   "cell_type": "markdown",
   "metadata": {},
   "source": [
    "## Taylor Series"
   ]
  },
  {
   "cell_type": "markdown",
   "metadata": {},
   "source": [
    "Taylor series are expansions of a function $f(x)$ by some finite distance $dx$ to $f(x+dx)$.\n",
    "* In essence, the Taylor series provides a means to predict a function value at one point\n",
    "in terms of the function value and its derivatives at another point.\n",
    "* In particular, the theorem states that any smooth function can be approximated as a\n",
    "polynomial:\n",
    "$$\n",
    "f(x_{i+1}) = f(x_i)+f^{'}(x_i)h + f^{''}(x_i)\\frac{h^2}{2!} + \\ldots + f^{n}(x_i)\\frac{h^n}{n!}\n",
    "$$"
   ]
  },
  {
   "cell_type": "markdown",
   "metadata": {},
   "source": [
    "We can use this to get the value of a function at a given given point given a deffirential equation."
   ]
  },
  {
   "cell_type": "markdown",
   "metadata": {},
   "source": [
    "### Example"
   ]
  },
  {
   "cell_type": "markdown",
   "metadata": {},
   "source": [
    "Let the ODE be:\n",
    "$$\n",
    "\\frac{dy}{dx} = f(x,y) = x - y\n",
    "$$\n",
    "Given initial conditions $y(0) = 1$ find $y(0.1)$ using the Taylor series expansion."
   ]
  },
  {
   "cell_type": "markdown",
   "metadata": {},
   "source": [
    "The general solution of the above DE is\n",
    "$$\n",
    "y{\\left(x \\right)} = x - 1 + 2 e^{- x}$$"
   ]
  },
  {
   "cell_type": "code",
   "execution_count": 20,
   "metadata": {},
   "outputs": [],
   "source": [
    "def f(x,y):\n",
    "    return x-y\n",
    "\n",
    "def sol(x):\n",
    "    return x-1+2*np.exp(-x)"
   ]
  },
  {
   "cell_type": "code",
   "execution_count": 21,
   "metadata": {},
   "outputs": [
    {
     "data": {
      "text/plain": [
       "0.909674836071919"
      ]
     },
     "execution_count": 21,
     "metadata": {},
     "output_type": "execute_result"
    }
   ],
   "source": [
    "sol(0.1)"
   ]
  },
  {
   "cell_type": "code",
   "execution_count": 26,
   "metadata": {},
   "outputs": [],
   "source": [
    "def error(x, y_calc):\n",
    "    y_true = sol(x)\n",
    "    ae = np.abs(y_true-y_calc)\n",
    "    re = np.abs(y_true-y_calc)/np.abs(y_true)\n",
    "    print(f\"Absolute error: {ae}\")\n",
    "    print(f\"Relative error: {re}\")"
   ]
  },
  {
   "cell_type": "markdown",
   "metadata": {},
   "source": [
    "## Picard Method"
   ]
  },
  {
   "cell_type": "markdown",
   "metadata": {},
   "source": [
    "The aim is to solve the ODE using the integration. Given:\n",
    "$$\n",
    "\\frac{dy}{dx} = f(x,y)\n",
    "$$\n",
    "and boundary conditions $y(x_0) = y_0$ we have to find the value of $y(x)$. In Picard method, this is done by:\n",
    "$$\n",
    "y^{(1)} = y_0 + \\int_{x_0}^x f(x,y_0)dx\\\\\n",
    "y^{(2)} = y^{(1)} + \\int_{x_0}^x f(x,y^{(1)})dx\\\\\n",
    "y^{(3)} = y^{(2)} + \\int_{x_0}^x f(x,y^{(2)})dx\\\\\n",
    "\\vdots\\\\\n",
    "$$\n"
   ]
  },
  {
   "cell_type": "markdown",
   "metadata": {},
   "source": [
    "### Implementation"
   ]
  },
  {
   "cell_type": "code",
   "execution_count": 50,
   "metadata": {},
   "outputs": [],
   "source": [
    "#Integration using Simpsons 1/3 rule\n",
    "def integrate(f, a, b, y=0, n=1000):\n",
    "    h = (b-a)/n\n",
    "    sum = 0\n",
    "    sum+=f(a, y)\n",
    "    sum+=f(b, y)\n",
    "    for i in range(1, n, 2):\n",
    "        sum += 4*f(a+i*h, y)\n",
    "    for i in range(2, n, 2):\n",
    "        sum += 2*f(a+i*h, y)\n",
    "    y_true = sum*h/3\n",
    "    return y_true"
   ]
  },
  {
   "cell_type": "code",
   "execution_count": 54,
   "metadata": {},
   "outputs": [],
   "source": [
    "def picard(f, x0, y0, x, n, report_error=True):\n",
    "    y_prev = y0\n",
    "    for i in range(n):\n",
    "        y_prev = y_prev + integrate(f=f, a=x0, b=x, y=y_prev)\n",
    "\n",
    "    if report_error:\n",
    "        error(x, y_prev)\n",
    "    return y_prev"
   ]
  },
  {
   "cell_type": "code",
   "execution_count": 55,
   "metadata": {},
   "outputs": [
    {
     "data": {
      "text/plain": [
       "0.39999999999999986"
      ]
     },
     "execution_count": 55,
     "metadata": {},
     "output_type": "execute_result"
    }
   ],
   "source": [
    "integrate(f, 0, 1, 0.1)"
   ]
  },
  {
   "cell_type": "code",
   "execution_count": 56,
   "metadata": {},
   "outputs": [
    {
     "name": "stdout",
     "output_type": "stream",
     "text": [
      "Absolute error: 0.5284303179769191\n",
      "Relative error: 0.5809002261277691\n"
     ]
    },
    {
     "data": {
      "text/plain": [
       "0.38124451809499993"
      ]
     },
     "execution_count": 56,
     "metadata": {},
     "output_type": "execute_result"
    }
   ],
   "source": [
    "picard(f, 0, 1, 0.1, 10)"
   ]
  },
  {
   "cell_type": "markdown",
   "metadata": {},
   "source": [
    "## Euler Method"
   ]
  },
  {
   "cell_type": "markdown",
   "metadata": {},
   "source": [
    "Also known as *First Order Runge-Kutta Method*, the Euler method is a numerical method for solving a differential equation using stepwise approximation. The formula is:\n",
    "$$\n",
    "y_{n+1} = y_n + hf(x_n,y_n)\n",
    "$$"
   ]
  },
  {
   "cell_type": "markdown",
   "metadata": {},
   "source": [
    "### Implementation"
   ]
  },
  {
   "cell_type": "code",
   "execution_count": 27,
   "metadata": {},
   "outputs": [],
   "source": [
    "def euler(f, x0, y0, x, n, report_error=True):\n",
    "    h = (x-x0)/n\n",
    "    y_prev = y0\n",
    "    for i in range(n):\n",
    "        y_prev = y_prev + f(x0+i*h, y_prev)*h\n",
    "    if report_error:\n",
    "        error(x, y_prev)\n",
    "    return y_prev"
   ]
  },
  {
   "cell_type": "code",
   "execution_count": 28,
   "metadata": {},
   "outputs": [
    {
     "name": "stdout",
     "output_type": "stream",
     "text": [
      "Absolute error: 0.0009106860543101059\n",
      "Relative error: 0.0010011116260427225\n"
     ]
    },
    {
     "data": {
      "text/plain": [
       "0.9087641500176089"
      ]
     },
     "execution_count": 28,
     "metadata": {},
     "output_type": "execute_result"
    }
   ],
   "source": [
    "euler(f, 0, 1, 0.1, 10)"
   ]
  },
  {
   "cell_type": "markdown",
   "metadata": {},
   "source": [
    "### Euler's Modified Method"
   ]
  },
  {
   "cell_type": "markdown",
   "metadata": {},
   "source": [
    "Here, we use a two steo predictor corrector approximation.\n",
    "$$\n",
    "y_{n+1}^* = y_n + hf(x_n,y_n)\\\\\n",
    "y_{n+1} = y_n + \\frac{h}{2}\\left[f(x_n,y_n)+f(x_n+h,y_{n+1}^*)\\right]\n",
    "$$"
   ]
  },
  {
   "cell_type": "code",
   "execution_count": 29,
   "metadata": {},
   "outputs": [],
   "source": [
    "def euler_modified(f, x0, y0, x, n, report_error=True):\n",
    "    h = (x-x0)/n\n",
    "    y_prev = y0\n",
    "    for i in range(n):\n",
    "       y_next = y_prev + h*f(x0+i*h, y_prev)\n",
    "       y_prev = y_prev + h*(f(x0+i*h, y_prev)+f(x0+(i+1)*h, y_next))/2\n",
    "    if report_error:\n",
    "        error(x, y_prev)\n",
    "    return y_prev"
   ]
  },
  {
   "cell_type": "code",
   "execution_count": 30,
   "metadata": {},
   "outputs": [
    {
     "name": "stdout",
     "output_type": "stream",
     "text": [
      "Absolute error: 3.0388386941249124e-06\n",
      "Relative error: 3.3405768452900914e-06\n"
     ]
    },
    {
     "data": {
      "text/plain": [
       "0.9096778749106131"
      ]
     },
     "execution_count": 30,
     "metadata": {},
     "output_type": "execute_result"
    }
   ],
   "source": [
    "euler_modified(f, 0, 1, 0.1, 10)"
   ]
  },
  {
   "cell_type": "markdown",
   "metadata": {},
   "source": [
    "So, Euler's modified method is far more accurate than the Euler method."
   ]
  },
  {
   "cell_type": "markdown",
   "metadata": {},
   "source": [
    "## Runge-Kutta Method"
   ]
  },
  {
   "cell_type": "markdown",
   "metadata": {},
   "source": [
    "In the Runge-Kutta method, the next value of y is calculated using an increment function $\\phi$. We get:\n",
    "$$\n",
    "y_{n+1} = y_n + \\phi(x_i,y_i, h)\\times h\\\\\n",
    "\\phi = a_1k_1 + a_2k_2 + a_3k_3 + \\cdots + a_nk_n\n",
    "$$\n",
    "k's are called the increment slope factor and are given by:\n",
    "$$\n",
    "k_1 = f(x_i,y_i)\\\\\n",
    "k_2 = f(x_i+p_1h,y_i+q_{11}k_1h)\\\\\n",
    "k_3 = f(x_i+p_2h,y_i+q_{21}k_1h+q_{22}k_2h)\\\\\n",
    "\\vdots\\\\\n",
    "k_n = f(x_i+p_{n-1}h,y_i+q_{n-1,1}k_1h+q_{n-1,2}k_2h+\\cdots+q_{n-1,n-1}k_{n-1}h)\n",
    "$$"
   ]
  },
  {
   "cell_type": "markdown",
   "metadata": {},
   "source": [
    "### Second Order Runge-Kutta Method"
   ]
  },
  {
   "cell_type": "markdown",
   "metadata": {},
   "source": [
    "The second order R-K method is:\n",
    "$$\n",
    "y_{i+1} = y_i + (a_1k_1+a_2k_2)h\\\\\n",
    "k_1 = f(x_i,y_i)\\\\\n",
    "k_2 = f(x_i+p_1h,y_i+q_{11}k_1h)\n",
    "$$\n",
    "Where the constants are related by:\n",
    "$$\n",
    "a_1 + a_2 = 1\\\\\n",
    "a_2p_1 = \\frac{1}{2}\\\\\n",
    "a_2q_{11} = \\frac{1}{2}\n",
    "$$"
   ]
  },
  {
   "cell_type": "markdown",
   "metadata": {},
   "source": [
    "#### Heun Method"
   ]
  },
  {
   "cell_type": "markdown",
   "metadata": {},
   "source": [
    "Using $a_2 = 1/2$ gives the Heun method. The constants becomes:\n",
    "$$\n",
    "a_1 =a_2= 1/2\\\\\n",
    "p_1 = q_{11} = 1\n",
    "$$\n",
    "And hence, we get:\n",
    "$$\n",
    "y_{i+1} = y_i + (\\frac{1}{2}k_1+\\frac{1}{2}a_2k_2)h\\\\\n",
    "k_1 = f(x_i,y_i)\\\\\n",
    "k_2 = f(x_i+h,y_i+k_1h)\n",
    "$$"
   ]
  },
  {
   "cell_type": "markdown",
   "metadata": {},
   "source": [
    "#### Midpoint Method"
   ]
  },
  {
   "cell_type": "markdown",
   "metadata": {},
   "source": [
    "Here, we use $a_2=1$ and hence the R-K equation becomes:\n",
    "$$\n",
    "y_{i+1} = y_i + k_2h\\\\\n",
    "k_1 = f(x_i,y_i)\\\\\n",
    "k_2 = f(x_i+h/2,y_i+k_1h/2)\n",
    "$$"
   ]
  },
  {
   "cell_type": "markdown",
   "metadata": {},
   "source": [
    "#### Ralston's Method"
   ]
  },
  {
   "cell_type": "markdown",
   "metadata": {},
   "source": [
    "Here, we use $a_2=2/3$ and hence the R-K equation becomes:\n",
    "$$\n",
    "y_{i+1} = y_i + (\\frac{1}{3}k_1+\\frac{2}{3}a_2k_2)h\\\\\n",
    "k_1 = f(x_i,y_i)\\\\\n",
    "k_2 = f(x_i+\\frac{3}{4}h,y_i+\\frac{3}{4}k_1h)\n",
    "$$"
   ]
  },
  {
   "cell_type": "markdown",
   "metadata": {},
   "source": [
    "#### Implementations"
   ]
  },
  {
   "cell_type": "code",
   "execution_count": 31,
   "metadata": {},
   "outputs": [],
   "source": [
    "#Heun method\n",
    "def heun(f, x0, y0, x, n, report_error=True):\n",
    "    h = (x-x0)/n\n",
    "    y_prev = y0\n",
    "    for i in range(n):\n",
    "        k1 = f(x0+i*h, y_prev)\n",
    "        k2 = f(x0+(i+1)*h, y_prev+h*k1)\n",
    "        y_prev = y_prev + (k1+k2)*h/2\n",
    "    if report_error:\n",
    "        error(x, y_prev)\n",
    "    return y_prev"
   ]
  },
  {
   "cell_type": "code",
   "execution_count": 32,
   "metadata": {},
   "outputs": [
    {
     "name": "stdout",
     "output_type": "stream",
     "text": [
      "Absolute error: 3.0388386941249124e-06\n",
      "Relative error: 3.3405768452900914e-06\n"
     ]
    },
    {
     "data": {
      "text/plain": [
       "0.9096778749106131"
      ]
     },
     "execution_count": 32,
     "metadata": {},
     "output_type": "execute_result"
    }
   ],
   "source": [
    "heun(f, 0, 1, 0.1, 10)"
   ]
  },
  {
   "cell_type": "code",
   "execution_count": 33,
   "metadata": {},
   "outputs": [],
   "source": [
    "# Midpoint method\n",
    "def midpoint(f, x0, y0, x, n, report_error=True):\n",
    "    h = (x-x0)/n\n",
    "    y_prev = y0\n",
    "    for i in range(n):\n",
    "        k1 = f(x0+i*h, y_prev)\n",
    "        k2 = f(x0+(i+0.5)*h, y_prev+h*k1*0.5)\n",
    "        y_prev = y_prev + k2*h\n",
    "    if report_error:\n",
    "        error(x, y_prev)\n",
    "    return y_prev"
   ]
  },
  {
   "cell_type": "code",
   "execution_count": 34,
   "metadata": {},
   "outputs": [
    {
     "name": "stdout",
     "output_type": "stream",
     "text": [
      "Absolute error: 3.0388386941249124e-06\n",
      "Relative error: 3.3405768452900914e-06\n"
     ]
    },
    {
     "data": {
      "text/plain": [
       "0.9096778749106131"
      ]
     },
     "execution_count": 34,
     "metadata": {},
     "output_type": "execute_result"
    }
   ],
   "source": [
    "midpoint(f, 0, 1, 0.1, 10)"
   ]
  },
  {
   "cell_type": "code",
   "execution_count": 35,
   "metadata": {},
   "outputs": [],
   "source": [
    "# Ralston method\n",
    "def ralston(f, x0, y0, x, n, report_error=True):\n",
    "    h = (x-x0)/n\n",
    "    y_prev = y0\n",
    "    for i in range(n):\n",
    "        k1 = f(x0+i*h, y_prev)\n",
    "        k2 = f(x0+(i+0.75)*h, y_prev+h*k1*0.75)\n",
    "        y_prev = y_prev + (k1+2*k2)*h/3\n",
    "    if report_error:\n",
    "        error(x, y_prev)\n",
    "    return y_prev"
   ]
  },
  {
   "cell_type": "code",
   "execution_count": 36,
   "metadata": {},
   "outputs": [
    {
     "name": "stdout",
     "output_type": "stream",
     "text": [
      "Absolute error: 3.0388386941249124e-06\n",
      "Relative error: 3.3405768452900914e-06\n"
     ]
    },
    {
     "data": {
      "text/plain": [
       "0.9096778749106131"
      ]
     },
     "execution_count": 36,
     "metadata": {},
     "output_type": "execute_result"
    }
   ],
   "source": [
    "ralston(f, 0, 1, 0.1, 10)"
   ]
  },
  {
   "cell_type": "markdown",
   "metadata": {},
   "source": [
    "### Third Order Runge-Kutta Method"
   ]
  },
  {
   "cell_type": "markdown",
   "metadata": {},
   "source": [
    "Here, we use:\n",
    "$$\n",
    "y_{i+1} = y_i + \\frac{1}{6}(k_1+4k_2+k_3)h\\\\\n",
    "k_1 = f(x_i,y_i)\\\\\n",
    "k_2 = f(x_i+\\frac{1}{2}h,y_i+\\frac{1}{2}k_1h)\\\\\n",
    "k_3 = f(x_i+h,y_i-k_1h+2k_2h)\n",
    "$$"
   ]
  },
  {
   "cell_type": "markdown",
   "metadata": {},
   "source": [
    "#### Implementations"
   ]
  },
  {
   "cell_type": "code",
   "execution_count": 39,
   "metadata": {},
   "outputs": [],
   "source": [
    "def rk3(f, x0, y0, x, n, report_error=True):\n",
    "    h = (x-x0)/n\n",
    "    y_prev = y0\n",
    "    for i in range(n):\n",
    "        k1 = f(x0+i*h, y_prev)\n",
    "        k2 = f(x0+(i+0.5)*h, y_prev+h*k1*0.5)\n",
    "        k3 = f(x0+(i+1)*h, y_prev-h*k1+2*k2*h)\n",
    "        y_prev = y_prev + (k1+4*k2+k3)*h/6\n",
    "    if report_error:\n",
    "        error(x, y_prev)\n",
    "    return y_prev"
   ]
  },
  {
   "cell_type": "code",
   "execution_count": 40,
   "metadata": {},
   "outputs": [
    {
     "name": "stdout",
     "output_type": "stream",
     "text": [
      "Absolute error: 7.600886253733563e-09\n",
      "Relative error: 8.355607907716859e-09\n"
     ]
    },
    {
     "data": {
      "text/plain": [
       "0.9096748284710328"
      ]
     },
     "execution_count": 40,
     "metadata": {},
     "output_type": "execute_result"
    }
   ],
   "source": [
    "rk3(f, 0, 1, 0.1, 10)"
   ]
  },
  {
   "cell_type": "markdown",
   "metadata": {},
   "source": [
    "### Fourth Order Runge-Kutta Method"
   ]
  },
  {
   "cell_type": "markdown",
   "metadata": {},
   "source": [
    "Here, we use:\n",
    "$$\n",
    "y_{i+1} = y_i + \\frac{1}{6}(k_1+2k_2+2k_3+k_4)h\\\\\n",
    "k_1 = f(x_i,y_i)\\\\\n",
    "k_2 = f(x_i+\\frac{1}{2}h,y_i+\\frac{1}{2}k_1h)\\\\\n",
    "k_3 = f(x_i+\\frac{1}{2}h,y_i+\\frac{1}{2}k_2h)\\\\\n",
    "k_4 = f(x_i+h,y_i+k_3h)\n",
    "$$"
   ]
  },
  {
   "cell_type": "markdown",
   "metadata": {},
   "source": [
    "#### Implementation"
   ]
  },
  {
   "cell_type": "code",
   "execution_count": 41,
   "metadata": {},
   "outputs": [],
   "source": [
    "def rk4(f, x0, y0, x, n, report_error=True):\n",
    "    h = (x-x0)/n\n",
    "    y_prev = y0\n",
    "    for i in range(n):\n",
    "        k1 = f(x0+i*h, y_prev)\n",
    "        k2 = f(x0+(i+0.5)*h, y_prev+h*k1*0.5)\n",
    "        k3 = f(x0+(i+0.5)*h, y_prev+h*k2*0.5)\n",
    "        k4 = f(x0+(i+1)*h, y_prev+h*k3)\n",
    "        y_prev = y_prev + (k1+2*k2+2*k3+k4)*h/6\n",
    "    if report_error:\n",
    "        error(x, y_prev)\n",
    "    return y_prev"
   ]
  },
  {
   "cell_type": "code",
   "execution_count": 42,
   "metadata": {},
   "outputs": [
    {
     "name": "stdout",
     "output_type": "stream",
     "text": [
      "Absolute error: 1.5207057835198157e-11\n",
      "Relative error: 1.6717025943977946e-11\n"
     ]
    },
    {
     "data": {
      "text/plain": [
       "0.9096748360871261"
      ]
     },
     "execution_count": 42,
     "metadata": {},
     "output_type": "execute_result"
    }
   ],
   "source": [
    "rk4(f, 0, 1, 0.1, 10)"
   ]
  },
  {
   "cell_type": "markdown",
   "metadata": {},
   "source": [
    "### Fifth Order Runge-Kutta Method (Buther's Method)"
   ]
  },
  {
   "cell_type": "markdown",
   "metadata": {},
   "source": [
    "Here, we use:\n",
    "$$\n",
    "y_{i+1} = y_i + \\frac{1}{90}(7k_1+23k_3+12k_4+32k_5+7k_6)h\\\\\n",
    "k_1 = f(x_i,y_i)\\\\\n",
    "k_2 = f(x_i+\\frac{1}{4}h,y_i+\\frac{1}{4}k_1h)\\\\\n",
    "k_3 = f(x_i+\\frac{1}{4}h,y_i+\\frac{1}{8}(k_1+k_2)h)\\\\\n",
    "k_4 = f(x_i+\\frac{1}{2}h,y_i+(\\frac{-k_2}{2}+k_3)h)\\\\\n",
    "k_5 = f(x_i+\\frac{3}{4}h,y_i+\\frac{3}{16}(k_1+3k_4)h)\\\\\n",
    "k_6 = f(x_i+h,y_i+\\frac{1}{7}(-3k_1+2k_2+12k_3-12k_4+8k_5)h)\n",
    "$$"
   ]
  },
  {
   "cell_type": "markdown",
   "metadata": {},
   "source": [
    "#### Implementation"
   ]
  },
  {
   "cell_type": "code",
   "execution_count": 48,
   "metadata": {},
   "outputs": [],
   "source": [
    "def rk5(f, x0, y0, x, n, report_error=True):\n",
    "    h = (x-x0)/n\n",
    "    y_prev = y0\n",
    "    for i in range(n):\n",
    "        k1 = f(x0+i*h, y_prev)\n",
    "        k2 = f(x0+(i+0.25)*h, y_prev+h*k1*0.25)\n",
    "        k3 = f(x0+(i+0.25)*h, y_prev+(k1+k2)*h/8)\n",
    "        k4 = f(x0+(i+0.5)*h, y_prev+(-0.5*k2+k3)*h)\n",
    "        k5 = f(x0+(i+0.75)*h, y_prev+3*(k1+3*k4)*h/16)\n",
    "        k6 = f(x0+(i+1)*h, y_prev+(-3*k1+2*k2+12*k3-12*k4+8*k5)*h/7)\n",
    "        y_prev = y_prev + (7*k1+32*k3+12*k4+32*k5+7*k6)*h/90\n",
    "    if report_error:\n",
    "        error(x, y_prev)\n",
    "    return y_prev"
   ]
  },
  {
   "cell_type": "code",
   "execution_count": 49,
   "metadata": {},
   "outputs": [
    {
     "name": "stdout",
     "output_type": "stream",
     "text": [
      "Absolute error: 3.3306690738754696e-15\n",
      "Relative error: 3.661384202137198e-15\n"
     ]
    },
    {
     "data": {
      "text/plain": [
       "0.9096748360719223"
      ]
     },
     "execution_count": 49,
     "metadata": {},
     "output_type": "execute_result"
    }
   ],
   "source": [
    "rk5(f, 0, 1, 0.1, 10)"
   ]
  }
 ],
 "metadata": {
  "interpreter": {
   "hash": "de718a8ad747ee7ac49283422c9dd388de3f9fba8ab4214a5db121921f189761"
  },
  "kernelspec": {
   "display_name": "Python 3.9.12",
   "language": "python",
   "name": "python3"
  },
  "language_info": {
   "codemirror_mode": {
    "name": "ipython",
    "version": 3
   },
   "file_extension": ".py",
   "mimetype": "text/x-python",
   "name": "python",
   "nbconvert_exporter": "python",
   "pygments_lexer": "ipython3",
   "version": "3.9.12"
  },
  "orig_nbformat": 4
 },
 "nbformat": 4,
 "nbformat_minor": 2
}
