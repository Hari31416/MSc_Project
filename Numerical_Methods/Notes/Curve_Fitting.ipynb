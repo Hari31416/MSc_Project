{
 "cells": [
  {
   "cell_type": "markdown",
   "metadata": {},
   "source": [
    "# Imports"
   ]
  },
  {
   "cell_type": "code",
   "execution_count": 1,
   "metadata": {},
   "outputs": [],
   "source": [
    "import numpy as np\n",
    "import matplotlib.pyplot as plt"
   ]
  },
  {
   "cell_type": "markdown",
   "metadata": {},
   "source": [
    "# Curve Fitting"
   ]
  },
  {
   "cell_type": "markdown",
   "metadata": {},
   "source": [
    "* **Regression:** Data exhibit a significant degree of scatter. The strategy is to derive a single\n",
    "curve that represents the general trend of the data.\n",
    "* **Interpolation:** Data is very precise. The strategy is to pass a curve or a series of curves\n",
    "through each of the points.\n"
   ]
  },
  {
   "cell_type": "markdown",
   "metadata": {},
   "source": [
    "## Linear Regression"
   ]
  },
  {
   "cell_type": "markdown",
   "metadata": {},
   "source": [
    "In linear regression we assume that there is approximately a linear\n",
    "relationship between X and Y where Y is the equantity we are trying to predict using X. Mathematicaly, we can write the equation of the line as:\n",
    "$$ Y = a_0 + a_1 X +\\epsilon $$\n",
    "We will sometimes\n",
    "describe this by saying that we are regressing Y on X (or Y onto X). In above $a_0$ and $a_1$ are two unknown constants that represent\n",
    "the intercept and slope terms in the linear model. Together, $a_0$ and $a_1$ are\n",
    "intercept\n",
    "known as the model *coefficients* or *parameters*. Once we have the coefficients, we can use them to predict Y."
   ]
  },
  {
   "cell_type": "markdown",
   "metadata": {},
   "source": [
    "Let $ \\hat{y_i} = a_0 + a_1 $ be the predictions for the $i$th observation. We define the residual as\n",
    "$ e_i = y_i - \\hat{y_i} $ then the sum of the squares of the residuals is\n",
    "$$ RSS =  \\sum_{i=1}^n (e_i)^2 = \\sum_{i=1}^n (y_i - \\hat{y_i})^2 $$\n",
    "Using calculus, we can show that the sum of the squares of the residuals is minized when\n",
    "$$\n",
    "\\begin{align*}\n",
    "a_0 &= \\frac{\\sum_{i=1}^n(x_i - \\bar{x})(y_i - \\bar{y})}{\\sum_{i=1}^n(x_i - \\bar{x})^2} \\\\\n",
    "a_1 &= \\bar{y} - a_1\\bar{x} \\\\\n",
    "\\end{align*}\n",
    "$$\n",
    "Here, $\\bar{x}$ and $\\bar{y}$ are the mean values of $x_i$ and $y_i$ respectively."
   ]
  },
  {
   "cell_type": "markdown",
   "metadata": {},
   "source": [
    "### Example"
   ]
  },
  {
   "cell_type": "code",
   "execution_count": 17,
   "metadata": {},
   "outputs": [],
   "source": [
    "plt.rcParams['figure.figsize'] = (10.0, 8.0)\n",
    "plt.rcParams[\"font.size\"] = 16\n",
    "plt.style.use('default')"
   ]
  },
  {
   "cell_type": "code",
   "execution_count": 12,
   "metadata": {},
   "outputs": [],
   "source": [
    "Y = np.array([0.5,2.5,2.0,4,3.5,6,5.5])\n",
    "X = np.arange(1,8)"
   ]
  },
  {
   "cell_type": "code",
   "execution_count": 13,
   "metadata": {},
   "outputs": [
    {
     "data": {
      "text/plain": [
       "(0.07142857142857117, 0.8392857142857143)"
      ]
     },
     "execution_count": 13,
     "metadata": {},
     "output_type": "execute_result"
    }
   ],
   "source": [
    "xmean = np.mean(X)\n",
    "ymean = np.mean(Y)\n",
    "variane = np.sum((X-xmean)**2)\n",
    "beta1 = np.sum((X-xmean)*(Y-ymean))/variane\n",
    "beta0 = ymean - beta1*xmean\n",
    "beta0, beta1"
   ]
  },
  {
   "cell_type": "code",
   "execution_count": 21,
   "metadata": {},
   "outputs": [
    {
     "data": {
      "image/png": "[encoded data removed]",
      "text/plain": [
       "<Figure size 640x480 with 1 Axes>"
      ]
     },
     "metadata": {},
     "output_type": "display_data"
    }
   ],
   "source": [
    "X_l = np.linspace(0,8,100)\n",
    "Y_l = beta0 + beta1*X_l\n",
    "plt.scatter(X,Y)\n",
    "plt.plot(X_l,Y_l, \"r\");"
   ]
  },
  {
   "cell_type": "markdown",
   "metadata": {},
   "source": [
    "### Some Definitions"
   ]
  },
  {
   "cell_type": "markdown",
   "metadata": {},
   "source": [
    "#### Standard Diviation in Data"
   ]
  },
  {
   "cell_type": "markdown",
   "metadata": {},
   "source": [
    "If n is the number of data points then the standard deviation of the data is defined as:\n",
    "$$\n",
    "S_y = \\sqrt{\\frac{\\sum _{i=1}^n (y_i - \\bar{y})}{n-1}}\n",
    "$$"
   ]
  },
  {
   "cell_type": "markdown",
   "metadata": {},
   "source": [
    "#### Standard Error"
   ]
  },
  {
   "cell_type": "markdown",
   "metadata": {},
   "source": [
    "This is defined as:\n",
    "$$\n",
    "S_{y/x} = \\sqrt{\\frac{\\sum_{i=1}^n(y_i-a_0-a_1 x_i)^2}{n-2}}\n",
    "$$"
   ]
  },
  {
   "cell_type": "markdown",
   "metadata": {},
   "source": [
    "#### Correlation Coefficient"
   ]
  },
  {
   "cell_type": "markdown",
   "metadata": {},
   "source": [
    "This is defined as:\n",
    "$$\n",
    "r = \\frac{n\\sum x_i y_i - (\\sum x_i)(\\sum y_i)}{\\sqrt{n\\sum x_i^2 - (\\sum x_i)^2}\\sqrt{n\\sum y_i^2 - (\\sum y_i)^2}}\n",
    "$$"
   ]
  },
  {
   "cell_type": "markdown",
   "metadata": {},
   "source": [
    "<blockquote>\n",
    "Based on above definitions, we can define some criterion for determining if the data is linear or not.\n",
    "\n",
    "If $S_{y/x} < S_y$, the fit is acceptable.\n",
    "\n",
    "If $r=1$, the data is completely linear error is zero.\n",
    "\n",
    "If $r=0$, the data is completely non-linear.\n",
    "</blockquote>"
   ]
  },
  {
   "cell_type": "markdown",
   "metadata": {},
   "source": [
    "For the linear fit above. We get:"
   ]
  },
  {
   "cell_type": "code",
   "execution_count": 31,
   "metadata": {},
   "outputs": [
    {
     "data": {
      "text/plain": [
       "0.7734431367038469"
      ]
     },
     "execution_count": 31,
     "metadata": {},
     "output_type": "execute_result"
    }
   ],
   "source": []
  },
  {
   "cell_type": "code",
   "execution_count": 33,
   "metadata": {},
   "outputs": [
    {
     "data": {
      "text/plain": [
       "(1.9456912102680337, 0.7734431367038469)"
      ]
     },
     "execution_count": 33,
     "metadata": {},
     "output_type": "execute_result"
    }
   ],
   "source": [
    "#SY\n",
    "n = len(X)\n",
    "SY = np.sqrt((np.sum((Y-ymean)**2))/(n-1))\n",
    "SYX = np.sqrt(((Y-beta0-beta1*X)**2).sum()/(n-2))\n",
    "SY, SYX"
   ]
  },
  {
   "cell_type": "markdown",
   "metadata": {},
   "source": [
    "We see that $S_{y/x}$ is less than $S_y$ so, the data is *somewhat* linear."
   ]
  },
  {
   "cell_type": "code",
   "execution_count": 35,
   "metadata": {},
   "outputs": [
    {
     "data": {
      "text/plain": [
       "0.9318356132188194"
      ]
     },
     "execution_count": 35,
     "metadata": {},
     "output_type": "execute_result"
    }
   ],
   "source": [
    "term1 = np.sum(X*Y)\n",
    "term2 = np.sum(X)*np.sum(Y)\n",
    "numerator = n*term1 - term2\n",
    "term3 =  n*np.sum(X**2) - (np.sum(X))**2\n",
    "term4 = n*np.sum(Y**2) - (np.sum(Y))**2\n",
    "denominator = np.sqrt((term3*term4))\n",
    "r = numerator/denominator\n",
    "r"
   ]
  },
  {
   "cell_type": "markdown",
   "metadata": {},
   "source": [
    "r is about 0.93, meaning our data is very much linear."
   ]
  },
  {
   "cell_type": "markdown",
   "metadata": {},
   "source": [
    "### Making A Function"
   ]
  },
  {
   "cell_type": "code",
   "execution_count": 36,
   "metadata": {},
   "outputs": [],
   "source": [
    "def linear_regression(X, Y, plot = True, statistics = True):\n",
    "    \"\"\"\n",
    "    Linear regression using the least squares method.\n",
    "\n",
    "    Parameters\n",
    "    ----------\n",
    "    X : array_like\n",
    "        Independent variable.\n",
    "    Y : array_like\n",
    "        Dependent variable.\n",
    "    plot : bool, optional\n",
    "        If True, plot the regression line. Default is True.\n",
    "    statistics : bool, optional\n",
    "        If True, return the statistics. Default is True.\n",
    "\n",
    "    Returns\n",
    "    -------\n",
    "    beta : array_like\n",
    "        Coefficients of the linear regression model.\n",
    "    stats : dict\n",
    "        Statistics of the linear regression model.\n",
    "        `r` : correlation coefficient\n",
    "        `sy` : Standard Deviation of data\n",
    "        `syx` : standard error of the estimate\n",
    "    \"\"\"\n",
    "    xmean = np.mean(X)\n",
    "    ymean = np.mean(Y)\n",
    "    variane = np.sum((X-xmean)**2)\n",
    "    beta1 = np.sum((X-xmean)*(Y-ymean))/variane\n",
    "    beta0 = ymean - beta1*xmean\n",
    "    beta = np.array([beta0, beta1])\n",
    "\n",
    "    if plot:\n",
    "        X_l = np.linspace(np.mean(X)-3*np.std(X), np.mean(X)+3*np.std(X), 100)\n",
    "        Y_l = beta0 + beta1*X_l\n",
    "        plt.figure(figsize=(10,8))\n",
    "        plt.scatter(X,Y)\n",
    "        plt.plot(X_l,Y_l, \"r\")\n",
    "        plt.xlabel(\"X\")\n",
    "        plt.ylabel(\"Y\")\n",
    "        plt.show()\n",
    "    \n",
    "    if statistics:\n",
    "        n = len(X)\n",
    "        SY = np.sqrt((np.sum((Y-ymean)**2))/(n-1))\n",
    "        SYX = np.sqrt(((Y-beta0-beta1*X)**2).sum()/(n-2))\n",
    "\n",
    "        term1 = np.sum(X*Y)\n",
    "        term2 = np.sum(X)*np.sum(Y)\n",
    "        numerator = n*term1 - term2\n",
    "        term3 =  n*np.sum(X**2) - (np.sum(X))**2\n",
    "        term4 = n*np.sum(Y**2) - (np.sum(Y))**2\n",
    "        denominator = np.sqrt((term3*term4))\n",
    "        r = numerator/denominator\n",
    "        stats = {\"r\": r, \"SY\": SY, \"SYX\": SYX}\n",
    "        return beta, stats\n",
    "    else:\n",
    "        return beta"
   ]
  },
  {
   "cell_type": "code",
   "execution_count": 37,
   "metadata": {},
   "outputs": [
    {
     "data": {
      "image/png": "[encoded data removed]",
      "text/plain": [
       "<Figure size 1000x800 with 1 Axes>"
      ]
     },
     "metadata": {},
     "output_type": "display_data"
    }
   ],
   "source": [
    "X = np.array([0.5,2.5,2.0,4,3.5,6,5.5])\n",
    "Y = np.array([0.5,2.0,4,3.5,3.9,6,5.5])\n",
    "beta, stats = linear_regression(X, Y, plot = True, statistics = True)"
   ]
  },
  {
   "cell_type": "code",
   "execution_count": 38,
   "metadata": {},
   "outputs": [
    {
     "data": {
      "text/plain": [
       "(array([0.6       , 0.88333333]),\n",
       " {'r': 0.9017846558134516,\n",
       "  'SY': 1.9058806238536958,\n",
       "  'SYX': 0.9023118455759442})"
      ]
     },
     "execution_count": 38,
     "metadata": {},
     "output_type": "execute_result"
    }
   ],
   "source": [
    "beta, stats"
   ]
  },
  {
   "cell_type": "markdown",
   "metadata": {},
   "source": [
    "## Polynomial Regression"
   ]
  },
  {
   "cell_type": "markdown",
   "metadata": {},
   "source": [
    "Unlike linear regression, a polynomial regression uses non-linear relationships between the variables. A second order polynomial is defined as:\n",
    "$$\n",
    "y = a_0 + a_1 x + a_2 x^2 + \\epsilon\n",
    "$$\n",
    "We have to optimize the sum of residuals:\n",
    "$$\n",
    "\\begin{align*}\n",
    "RSS &= \\sum_{i=1}^n (y_i - \\hat{y_i})^2\\\\\n",
    " &= \\sum_{i=1}^n(y_i -a_0 - a_1 x_i - a_2 x_i^2) \\\\\n",
    "\\end{align*}\n",
    "$$"
   ]
  },
  {
   "cell_type": "markdown",
   "metadata": {},
   "source": [
    "By differentiating this with respect to $a_0, a_1 \\text{and } a_2$, we can show that:\n",
    "$$\n",
    "\\begin{align*}\n",
    "na_0 &+ &\\left( \\sum_{i=1}^n x_i\\right) a_1 + &\\left(\\sum_{i=1}^n x_i^2\\right)a_2 &= &\\sum _{i=1}^n y_i\\\\\n",
    "\\left( \\sum_{i=1}^n x_i\\right) a_0 &+ &\\left(\\sum_{i=1}^n x_i^2\\right)a_1 + &\\left(\\sum_{i=1}^n x_i^3\\right)a_2 &= &\\sum _{i=1}^n x_iy_i\\\\\n",
    "\\left( \\sum_{i=1}^n x_i^2\\right) a_0 &+ &\\left(\\sum_{i=1}^n x_i^3\\right)a_1 + &\\left(\\sum_{i=1}^n x_i^4\\right)a_2 &= &\\sum _{i=1}^n x_i^2y_i\\\\\n",
    "\\end{align*}\n",
    "$$"
   ]
  },
  {
   "cell_type": "markdown",
   "metadata": {},
   "source": [
    "We can solve this using matrix algebra."
   ]
  },
  {
   "cell_type": "markdown",
   "metadata": {},
   "source": [
    "The standard error and correlation coefficient in this case are:\n",
    "$$\n",
    "S_{y/x} = \\sqrt{\\frac{\\sum_{i=1}^n(y_i-a_0 -a_1 x_i -a_2 x_i^2}{n-(m+1)}}\\\\\n",
    "S_{y/x} = \\sqrt{\\frac{S_r}{n-(m+1)}}\n",
    "$$\n",
    "m being the order of the polynomial, here 2.\n",
    "\n",
    "The correlation coefficient is:\n",
    "$$\n",
    "r^2 = \\frac{\\sum_{i=1}^n (y_i - \\bar{y})^2-S_r}{\\sum_{i=1}^n (y_i - \\bar{y})^2}\n",
    "$$"
   ]
  },
  {
   "cell_type": "markdown",
   "metadata": {},
   "source": [
    "### Example"
   ]
  },
  {
   "cell_type": "code",
   "execution_count": 44,
   "metadata": {},
   "outputs": [
    {
     "data": {
      "text/plain": [
       "(2.4785714285714056, 2.3592857142857397, 1.8607142857142813)"
      ]
     },
     "execution_count": 44,
     "metadata": {},
     "output_type": "execute_result"
    }
   ],
   "source": [
    "X = np.array([0,1,2,3,4,5])\n",
    "Y = np.array([2.1, 7.7, 13.6, 27.2, 40.9, 61.1])\n",
    "n = len(X)\n",
    "m = 2\n",
    "xi = np.sum(X)\n",
    "xi2 = np.sum(X**2)\n",
    "xi3 = np.sum(X**3)\n",
    "xi4 = np.sum(X**4)\n",
    "yi = np.sum(Y)\n",
    "xiyi = np.sum(X*Y)\n",
    "xi2yi = np.sum(X**2*Y)\n",
    "xmean = np.mean(X)\n",
    "ymean = np.mean(Y)\n",
    "\n",
    "#The matix\n",
    "A = np.array([[n, xi, xi2], [xi, xi2, xi3], [xi2, xi3, xi4]])\n",
    "B = np.array([yi, xiyi, xi2yi])\n",
    "\n",
    "#Solving for a0, a1, a2\n",
    "coefficients = np.linalg.solve(A,B)\n",
    "a0 = coefficients[0]\n",
    "a1 = coefficients[1]\n",
    "a2 = coefficients[2]\n",
    "a0, a1, a2\n"
   ]
  },
  {
   "cell_type": "code",
   "execution_count": 45,
   "metadata": {},
   "outputs": [
    {
     "data": {
      "image/png": "[encoded data removed]",
      "text/plain": [
       "<Figure size 1000x800 with 1 Axes>"
      ]
     },
     "metadata": {},
     "output_type": "display_data"
    }
   ],
   "source": [
    "X_l = np.linspace(X.min(), X.max(), 100)\n",
    "Y_l = a0 + a1*X_l + a2*X_l**2\n",
    "plt.figure(figsize=(10,8))\n",
    "plt.scatter(X,Y)\n",
    "plt.plot(X_l,Y_l, \"r\")\n",
    "plt.xlabel(\"X\")\n",
    "plt.ylabel(\"Y\")\n",
    "plt.show()"
   ]
  },
  {
   "cell_type": "markdown",
   "metadata": {},
   "source": [
    "#### Statistics"
   ]
  },
  {
   "cell_type": "code",
   "execution_count": 51,
   "metadata": {},
   "outputs": [
    {
     "data": {
      "text/plain": [
       "(1.1175227706213167, 0.9985093572984048)"
      ]
     },
     "execution_count": 51,
     "metadata": {},
     "output_type": "execute_result"
    }
   ],
   "source": [
    "#Sr\n",
    "Sr = np.sum((Y-a0-a1*X-a2*X**2)**2)\n",
    "SYX = np.sqrt(Sr/(n-m-1))\n",
    "#r2\n",
    "r2 = (np.sum((Y-ymean)**2)-Sr)/(np.sum((Y-ymean)**2))\n",
    "SYX, r2"
   ]
  },
  {
   "cell_type": "markdown",
   "metadata": {},
   "source": [
    "### Making A Function"
   ]
  },
  {
   "cell_type": "code",
   "execution_count": 52,
   "metadata": {},
   "outputs": [],
   "source": [
    "def poly_regression(X, Y, plot = True, statistics = True):\n",
    "    \"\"\"\n",
    "    Polynomial regression of order two using the least squares method.\n",
    "    \n",
    "    Parameters\n",
    "    ----------\n",
    "    X : array_like\n",
    "        Independent variable.\n",
    "    Y : array_like\n",
    "        Dependent variable.\n",
    "    plot : bool, optional\n",
    "        If True, plot the regression line. Default is True.\n",
    "    statistics : bool, optional\n",
    "        If True, return the statistics. Default is True.\n",
    "\n",
    "    Returns\n",
    "    -------\n",
    "    beta : array_like\n",
    "        Coefficients of the polynomial regression model.\n",
    "    stats : dict\n",
    "        Statistics of the polynomial regression model.\n",
    "        `r2` : square of correlation coefficient\n",
    "        `syx` : standard error of the estimate\n",
    "    \"\"\"\n",
    "    n = len(X)\n",
    "    m = 2\n",
    "    xi = np.sum(X)\n",
    "    xi2 = np.sum(X**2)\n",
    "    xi3 = np.sum(X**3)\n",
    "    xi4 = np.sum(X**4)\n",
    "    yi = np.sum(Y)\n",
    "    xiyi = np.sum(X*Y)\n",
    "    xi2yi = np.sum(X**2*Y)\n",
    "    xmean = np.mean(X)\n",
    "    ymean = np.mean(Y)\n",
    "\n",
    "    #The matix\n",
    "    A = np.array([[n, xi, xi2], [xi, xi2, xi3], [xi2, xi3, xi4]])\n",
    "    B = np.array([yi, xiyi, xi2yi])\n",
    "\n",
    "    #Solving for a0, a1, a2\n",
    "    coefficients = np.linalg.solve(A,B)\n",
    "    a0 = coefficients[0]\n",
    "    a1 = coefficients[1]\n",
    "    a2 = coefficients[2]\n",
    "    beta = np.array([a0, a1, a2])\n",
    "\n",
    "    if plot:\n",
    "        X_l = np.linspace(np.mean(X)-3*np.std(X),np.mean(X)+3*np.std(X), 100)\n",
    "        Y_l = a0 + a1*X_l + a2*X_l**2\n",
    "        plt.figure(figsize=(10,8))\n",
    "        plt.scatter(X,Y)\n",
    "        plt.plot(X_l,Y_l, \"r\")\n",
    "        plt.xlabel(\"X\")\n",
    "        plt.ylabel(\"Y\")\n",
    "        plt.show()\n",
    "\n",
    "    if statistics:\n",
    "        Sr = np.sum((Y-a0-a1*X-a2*X**2)**2)\n",
    "        SYX = np.sqrt(Sr/(n-m-1))\n",
    "        r2 = (np.sum((Y-ymean)**2)-Sr)/(np.sum((Y-ymean)**2))\n",
    "        stats = {\"r2\": r2, \"syx\": SYX}\n",
    "        return beta, stats\n",
    "    else:\n",
    "        return beta"
   ]
  },
  {
   "cell_type": "code",
   "execution_count": 53,
   "metadata": {},
   "outputs": [
    {
     "data": {
      "image/png": "[encoded data removed]",
      "text/plain": [
       "<Figure size 1000x800 with 1 Axes>"
      ]
     },
     "metadata": {},
     "output_type": "display_data"
    }
   ],
   "source": [
    "X = np.array([0,1,2,3,4,5])\n",
    "Y = np.array([2.1, 7.7, 13.6, 27.2, 40.9, 61.1])\n",
    "beta, stats = poly_regression(X, Y, plot = True, statistics = True)"
   ]
  },
  {
   "cell_type": "code",
   "execution_count": 54,
   "metadata": {},
   "outputs": [
    {
     "data": {
      "text/plain": [
       "(array([2.47857143, 2.35928571, 1.86071429]),\n",
       " {'r2': 0.9985093572984048, 'syx': 1.1175227706213167})"
      ]
     },
     "execution_count": 54,
     "metadata": {},
     "output_type": "execute_result"
    }
   ],
   "source": [
    "beta, stats"
   ]
  },
  {
   "cell_type": "markdown",
   "metadata": {},
   "source": [
    "### Generalizing Polynomial Regression to $m^{th}$ Order"
   ]
  },
  {
   "cell_type": "markdown",
   "metadata": {},
   "source": [
    "## Nonlinear Regression"
   ]
  },
  {
   "cell_type": "code",
   "execution_count": null,
   "metadata": {},
   "outputs": [],
   "source": []
  }
 ],
 "metadata": {
  "interpreter": {
   "hash": "68f7313e9a186548f77cab3a17a5af81b9cdb9b3b5937414a1631d8954f25ebe"
  },
  "kernelspec": {
   "display_name": "Python 3.9.12",
   "language": "python",
   "name": "python3"
  },
  "language_info": {
   "codemirror_mode": {
    "name": "ipython",
    "version": 3
   },
   "file_extension": ".py",
   "mimetype": "text/x-python",
   "name": "python",
   "nbconvert_exporter": "python",
   "pygments_lexer": "ipython3",
   "version": "3.9.12"
  },
  "orig_nbformat": 4
 },
 "nbformat": 4,
 "nbformat_minor": 2
}
