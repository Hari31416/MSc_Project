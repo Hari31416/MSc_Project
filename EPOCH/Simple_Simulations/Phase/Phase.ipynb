{
 "cells": [
  {
   "cell_type": "markdown",
   "metadata": {},
   "source": [
    "# Phase in Epoch"
   ]
  },
  {
   "cell_type": "markdown",
   "metadata": {},
   "source": [
    "Setting phase, results in a laser which travels making some angle with the boundary. This is a spatial variable which is defined across\n",
    "the whole of the boundary on which the laser is attached."
   ]
  },
  {
   "cell_type": "markdown",
   "metadata": {},
   "source": [
    "![](01.png)"
   ]
  },
  {
   "cell_type": "markdown",
   "metadata": {},
   "source": [
    "Different wave fronts cross the y-axis at different places and this forms a sinusoidal profile\n",
    "along y that represents the phase. The wavelength of this profile is given by $\\lambda_\\phi = \\lambda / \\sin \\theta$, where $\\lambda$  is\n",
    "the wavelength of the laser and $\\theta$ is the angle of the propagation direction with respect to the x-axis.\n",
    "The actual phase to use will be $\\phi(y) = −k_\\phi y = −2πy/\\lambda_\\phi$ . It is negative because the phase of the wave\n",
    "is propagating in the positive y direction."
   ]
  },
  {
   "cell_type": "markdown",
   "metadata": {},
   "source": [
    "It is also necessary to alter the wavelength of the driver since\n",
    "this is given in the direction perpendicular to the boundary. The new wavelength to use will be $\\lambda \\cos \\theta$."
   ]
  },
  {
   "cell_type": "markdown",
   "metadata": {},
   "source": [
    "Here is the laser without any phase at $t=80$ fs:\n",
    "\n",
    "![](NP.png)"
   ]
  },
  {
   "cell_type": "markdown",
   "metadata": {},
   "source": [
    "## $18^\\circ$ phase shift"
   ]
  },
  {
   "cell_type": "markdown",
   "metadata": {},
   "source": [
    "### With Modified Wavelength"
   ]
  },
  {
   "cell_type": "markdown",
   "metadata": {},
   "source": [
    "![](18_MW.png)"
   ]
  },
  {
   "cell_type": "markdown",
   "metadata": {},
   "source": [
    "### Without Modified Wavelength"
   ]
  },
  {
   "cell_type": "markdown",
   "metadata": {},
   "source": [
    "![](18_OW.png)"
   ]
  },
  {
   "cell_type": "markdown",
   "metadata": {},
   "source": [
    "## $60^\\circ$ phase shift"
   ]
  },
  {
   "cell_type": "markdown",
   "metadata": {},
   "source": [
    "### With Modified Wavelength"
   ]
  },
  {
   "cell_type": "markdown",
   "metadata": {},
   "source": [
    "![](60_MW.png)"
   ]
  },
  {
   "cell_type": "markdown",
   "metadata": {},
   "source": [
    "### Without Modified Wavelength"
   ]
  },
  {
   "cell_type": "markdown",
   "metadata": {},
   "source": [
    "![](60_OW.png)"
   ]
  }
 ],
 "metadata": {
  "kernelspec": {
   "display_name": "Python 3.9.12 ('base')",
   "language": "python",
   "name": "python3"
  },
  "language_info": {
   "name": "python",
   "version": "3.9.12"
  },
  "orig_nbformat": 4,
  "vscode": {
   "interpreter": {
    "hash": "6b9115796af4b7698cd1d09cea36f4b810d06a19fbdf4650a8de9620fa6603ed"
   }
  }
 },
 "nbformat": 4,
 "nbformat_minor": 2
}
