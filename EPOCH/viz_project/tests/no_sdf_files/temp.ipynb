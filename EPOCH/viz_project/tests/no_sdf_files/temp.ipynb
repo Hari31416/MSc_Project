{
 "cells": [
  {
   "cell_type": "code",
   "execution_count": 2,
   "metadata": {},
   "outputs": [],
   "source": [
    "from epoch_viz.viz import *"
   ]
  },
  {
   "cell_type": "code",
   "execution_count": 5,
   "metadata": {},
   "outputs": [],
   "source": [
    "TEST_DIR = \"..\"\n",
    "DATA_DIR = os.path.join(TEST_DIR, \"run\")\n",
    "ez = EpochViz(DATA_DIR)\n",
    "res = ez.info()"
   ]
  },
  {
   "cell_type": "code",
   "execution_count": 6,
   "metadata": {},
   "outputs": [
    {
     "name": "stdout",
     "output_type": "stream",
     "text": [
      "\u001b[95mHere are the some infomation about the data in the directory: \u001b[92m../run\u001b[0m\n",
      "\n",
      "\u001b[96mTotal number of sdf files: \u001b[0m1336\n",
      "\u001b[93m------------------------------------------------------------\u001b[0m\n",
      "\u001b[96mAvailable data inside the sdf files:\u001b[0m\n",
      "\tEx\tEy\tEz\tBx\tBy\tBz\tPx\tPy\tPz\trho\tNe\tN\n",
      "\u001b[93m------------------------------------------------------------\u001b[0m\n",
      "\u001b[96mInput deck information:\u001b[0m\n",
      "\tWavelength (m): 1.0000e-06\n",
      "\tLaser Width (tau): 2.0000e+01\n",
      "\tMax Time (tau): 4.0000e+01\n",
      "\tDump Time Step (s): 1.0000e-16\n",
      "\tNormalized Vector Potential: 1.0000e+00\n",
      "\tDensity Factor: 3.0000e+00\n",
      "\tNumber of Grid Points: 8.0000e+03\n",
      "\tMinimum X (wavelength): -2.0000e+01\n",
      "\tMaximum X (wavelength): 1.0000e+01\n",
      "\tThickness of Plasma (wavelength): 1.0000e+00\n",
      "\tParticles per Cell: 1.0000e+02\n",
      "\tStart Position of Plasma (wavelength): 0.0000e+00\n",
      "\tTemperature of Plasma (eV): 5.0000e+01\n",
      "\u001b[93m------------------------------------------------------------\u001b[0m\n",
      "\u001b[96mCalculated Parameters:\u001b[0m\n",
      "\tBox Size (m): 3.0000e-05\n",
      "\tGrid Spacing (m): 3.7500e-09\n",
      "\tTime Step (s): 1.1883e-17\n",
      "\tRun Time (s): 1.3343e-13\n",
      "\tLaser Frequency (Hz): 1.8837e+15\n",
      "\tLaser Width (s): 3.3356e-15\n",
      "\tCritical Density (m^-3): 1.1149e+27\n",
      "\tPulse Width (s): 6.6713e-14\n",
      "\tElectron Plamsa Density (m^-3): 3.3446e+27\n",
      "\tTemperature (eV): 5.0000e+01\n",
      "\tTemperature (K): 5.8023e+05\n",
      "\tDebye Length (m): 9.0894e-10\n",
      "\tThermal Velocity (m/s): 2.9655e+06\n",
      "\tMaximum Resolvable Omega (omega0): 3.3356e+01\n",
      "\u001b[93m------------------------------------------------------------\u001b[0m\n"
     ]
    }
   ],
   "source": [
    "print(res)"
   ]
  }
 ],
 "metadata": {
  "kernelspec": {
   "display_name": "msc-project",
   "language": "python",
   "name": "python3"
  },
  "language_info": {
   "codemirror_mode": {
    "name": "ipython",
    "version": 3
   },
   "file_extension": ".py",
   "mimetype": "text/x-python",
   "name": "python",
   "nbconvert_exporter": "python",
   "pygments_lexer": "ipython3",
   "version": "3.10.8"
  },
  "orig_nbformat": 4,
  "vscode": {
   "interpreter": {
    "hash": "fa5e0b5e350e2ea728d32bac1d29c4433d157848f5d1e6c8399ad60c17c24f73"
   }
  }
 },
 "nbformat": 4,
 "nbformat_minor": 2
}
