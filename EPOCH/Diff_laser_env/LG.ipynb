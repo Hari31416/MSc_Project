{
 "cells": [
  {
   "attachments": {},
   "cell_type": "markdown",
   "metadata": {},
   "source": [
    "$$L_2^k(x)=1/2[x^2-2(k+2)x+(k+1)(k+2)]$$\n",
    "$$L_3^k(x)=1/6[-x^3+3(k+3)x^2-3(k+2)(k+3)x+(k+1)(k+2)(k+3)]$$"
   ]
  },
  {
   "attachments": {},
   "cell_type": "markdown",
   "metadata": {},
   "source": [
    "$$L_2^2(x)=1/2[x^2-2(2+2)x+(2+1)(2+2)]$$\n",
    "$$L_2^2(x)=1/2[x^2-8x+12]$$\n",
    "$$L_2^3(x)=1/2[x^2-2(3+2)x+(3+1)(3+2)]$$\n",
    "$$L_2^3(x)=1/2[x^2-10x+20]$$"
   ]
  },
  {
   "attachments": {},
   "cell_type": "markdown",
   "metadata": {},
   "source": [
    "$$L_3^2(x)=1/6[-x^3+3(2+3)x^2-3(2+2)(2+3)x+(2+1)(2+2)(2+3)]$$\n",
    "$$L_3^2(x)=1/6[-x^3+1x^2-60x+60]$$\n",
    "$$L_3^3(x)=1/6[-x^3+3(3+3)x^2-3(3+2)(3+3)x+(3+1)(3+2)(3+3)]$$\n",
    "$$L_3^3(x)=1/6[-x^3+18x^2-90x+120]$$"
   ]
  },
  {
   "attachments": {},
   "cell_type": "markdown",
   "metadata": {},
   "source": [
    "$$\n",
    "LG(m, p)(r) = r^m e^{-r^2/w^2} L_m^p(2r^2/w^2)\n",
    "$$\n",
    "here w is the width of the Gaussian, and p and m is the order of the Laguerre polynomial."
   ]
  },
  {
   "cell_type": "code",
   "execution_count": null,
   "metadata": {},
   "outputs": [],
   "source": []
  },
  {
   "cell_type": "code",
   "execution_count": null,
   "metadata": {},
   "outputs": [],
   "source": []
  }
 ],
 "metadata": {
  "language_info": {
   "name": "python"
  },
  "orig_nbformat": 4
 },
 "nbformat": 4,
 "nbformat_minor": 2
}
