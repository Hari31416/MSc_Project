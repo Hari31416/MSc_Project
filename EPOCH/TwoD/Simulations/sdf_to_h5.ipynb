{
 "cells": [
  {
   "cell_type": "code",
   "execution_count": 1,
   "metadata": {},
   "outputs": [],
   "source": [
    "import numpy as np\n",
    "import sdf\n",
    "import glob\n",
    "import h5py"
   ]
  },
  {
   "cell_type": "code",
   "execution_count": 2,
   "metadata": {},
   "outputs": [],
   "source": [
    "DATA_DIR = \"2run\"\n",
    "ALL_FILES = glob.glob(f\"{DATA_DIR}/*sdf\")\n",
    "ALL_FILES.sort()\n",
    "POINTS = len(ALL_FILES)"
   ]
  },
  {
   "cell_type": "code",
   "execution_count": 3,
   "metadata": {},
   "outputs": [
    {
     "data": {
      "text/plain": [
       "dict_keys(['Header', 'Run_info', 'Wall-time', 'Electric Field/Ex', 'Electric Field/Ey', 'Electric Field/Ez', 'Derived/Number_Density', 'Derived/Number_Density/Electron', 'Grid/Grid', 'Grid/Grid_mid', 'Grid/CPUs/Original rank', 'Grid/CPUs/Original rank_mid', 'CPUs/Original rank', 'CPUs/Current rank'])"
      ]
     },
     "execution_count": 3,
     "metadata": {},
     "output_type": "execute_result"
    }
   ],
   "source": [
    "raw_data = sdf.read(ALL_FILES[0], dict=True)\n",
    "raw_data.keys()"
   ]
  },
  {
   "cell_type": "code",
   "execution_count": 11,
   "metadata": {},
   "outputs": [],
   "source": [
    "Ex = raw_data[\"Electric Field/Ey\"].data\n",
    "Ey = raw_data[\"Electric Field/Ey\"].data\n",
    "Ez = raw_data[\"Electric Field/Ez\"].data\n",
    "n = raw_data[\"Derived/Number_Density/Electron\"].data"
   ]
  },
  {
   "cell_type": "code",
   "execution_count": 32,
   "metadata": {},
   "outputs": [
    {
     "data": {
      "text/plain": [
       "(4000, 4000)"
      ]
     },
     "execution_count": 32,
     "metadata": {},
     "output_type": "execute_result"
    }
   ],
   "source": [
    "Ex.shape"
   ]
  },
  {
   "cell_type": "code",
   "execution_count": 20,
   "metadata": {},
   "outputs": [
    {
     "data": {
      "text/plain": [
       "'Electric Field/Ey'"
      ]
     },
     "execution_count": 20,
     "metadata": {},
     "output_type": "execute_result"
    }
   ],
   "source": [
    "raw_data[\"Electric Field/Ey\"].name"
   ]
  },
  {
   "cell_type": "code",
   "execution_count": 14,
   "metadata": {},
   "outputs": [
    {
     "data": {
      "text/plain": [
       "2.4009332157358295e-14"
      ]
     },
     "execution_count": 14,
     "metadata": {},
     "output_type": "execute_result"
    }
   ],
   "source": [
    "time = raw_data[\"Header\"][\"time\"]\n",
    "time"
   ]
  },
  {
   "cell_type": "code",
   "execution_count": 15,
   "metadata": {},
   "outputs": [
    {
     "data": {
      "text/plain": [
       "{'version': '4.17.16',\n",
       " 'commit_id': 'v4.17.16-0-g3088d845-clean',\n",
       " 'sha1sum': 'b78b76ce463f4aa1d0298e0fd2497b833c8ad2bbefd0ca2cb45ddaa5d533df90',\n",
       " 'compile_machine': 'haris-linux',\n",
       " 'compile_flags': 'unknown',\n",
       " 'defines': '0',\n",
       " 'compile_date': 'Sat Sep 10 18:19:38 2022',\n",
       " 'run_date': 'Mon Mar 27 22:05:32 2023',\n",
       " 'io_date': 'Mon Mar 27 23:17:51 2023'}"
      ]
     },
     "execution_count": 15,
     "metadata": {},
     "output_type": "execute_result"
    }
   ],
   "source": [
    "raw_data[\"Run_info\"]"
   ]
  },
  {
   "cell_type": "code",
   "execution_count": 24,
   "metadata": {},
   "outputs": [],
   "source": [
    "Xs = raw_data[\"Grid/Grid\"].data[0]\n",
    "Ys = raw_data[\"Grid/Grid\"].data[1]"
   ]
  },
  {
   "cell_type": "code",
   "execution_count": 27,
   "metadata": {},
   "outputs": [
    {
     "data": {
      "text/plain": [
       "array([-1.000e-05, -9.995e-06, -9.990e-06, ...,  9.990e-06,  9.995e-06,\n",
       "        1.000e-05])"
      ]
     },
     "execution_count": 27,
     "metadata": {},
     "output_type": "execute_result"
    }
   ],
   "source": [
    "Xs"
   ]
  },
  {
   "cell_type": "code",
   "execution_count": 28,
   "metadata": {},
   "outputs": [],
   "source": [
    "grid = {\n",
    "    \"x\": Xs,\n",
    "    \"y\": Ys,\n",
    "}\n",
    "E_field = {\n",
    "    \"x\": Ex,\n",
    "    \"y\": Ey,\n",
    "    \"z\": Ez,\n",
    "}\n",
    "time = time\n",
    "n = n"
   ]
  },
  {
   "cell_type": "code",
   "execution_count": 33,
   "metadata": {},
   "outputs": [],
   "source": [
    "with h5py.File(\"test.h5\", \"w\") as f:\n",
    "    for key, value in grid.items():\n",
    "        f.create_dataset(f\"grid/{key}\", data=value)\n",
    "    for key, value in E_field.items():\n",
    "        f.create_dataset(f\"E_field/{key}\", data=value)\n",
    "    f.create_dataset(\"time\", data=time)\n",
    "    f.create_dataset(\"n\", data=n)"
   ]
  }
 ],
 "metadata": {
  "kernelspec": {
   "display_name": "msc-project",
   "language": "python",
   "name": "python3"
  },
  "language_info": {
   "codemirror_mode": {
    "name": "ipython",
    "version": 3
   },
   "file_extension": ".py",
   "mimetype": "text/x-python",
   "name": "python",
   "nbconvert_exporter": "python",
   "pygments_lexer": "ipython3",
   "version": "3.10.8"
  },
  "orig_nbformat": 4
 },
 "nbformat": 4,
 "nbformat_minor": 2
}
