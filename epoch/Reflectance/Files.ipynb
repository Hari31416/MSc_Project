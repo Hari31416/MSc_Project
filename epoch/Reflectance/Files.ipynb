{
 "cells": [
  {
   "cell_type": "code",
   "execution_count": 2,
   "metadata": {},
   "outputs": [],
   "source": [
    "def find_and_replace(file_name, find, replace):\n",
    "    with open(file_name, 'r') as file:\n",
    "        filedata = file.read()\n",
    "    filedata = filedata.replace(find, replace)\n",
    "    with open(file_name, 'w') as file:\n",
    "        file.write(filedata)"
   ]
  },
  {
   "cell_type": "code",
   "execution_count": 3,
   "metadata": {},
   "outputs": [],
   "source": [
    "find_and_replace('input.deck', 'DENSITY_FACTOR', '4')"
   ]
  },
  {
   "cell_type": "code",
   "execution_count": null,
   "metadata": {},
   "outputs": [],
   "source": []
  }
 ],
 "metadata": {
  "kernelspec": {
   "display_name": "Python 3.9.12 ('base')",
   "language": "python",
   "name": "python3"
  },
  "language_info": {
   "codemirror_mode": {
    "name": "ipython",
    "version": 3
   },
   "file_extension": ".py",
   "mimetype": "text/x-python",
   "name": "python",
   "nbconvert_exporter": "python",
   "pygments_lexer": "ipython3",
   "version": "3.9.12"
  },
  "orig_nbformat": 4,
  "vscode": {
   "interpreter": {
    "hash": "6b9115796af4b7698cd1d09cea36f4b810d06a19fbdf4650a8de9620fa6603ed"
   }
  }
 },
 "nbformat": 4,
 "nbformat_minor": 2
}
