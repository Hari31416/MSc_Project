{
 "cells": [
  {
   "cell_type": "markdown",
   "metadata": {},
   "source": [
    "# ZPIC Examples\n",
    "\n",
    "In this folder you can find example Jupyter notebooks using ZPIC. If you haven't, make sure you start with the [ZPIC](tutorial/ZPIC.ipynb) notebook that covers the basic usage of ZPIC in these environments.\n",
    "\n",
    " These examples are organized over 3 directories as follows:\n",
    "\n",
    "* `tutorial` - Notebooks introducing code usage and functionalities;\n",
    "* `classroom` - Examples of ZPIC notebooks that can be used in a classroom to showcase some of the most fundamental plasma physics phenomena;\n",
    "* `papers` - Notebooks reproducing and extending the work done in seminal plasma physics papers.\n",
    "\n",
    "## Tutorials\n",
    "\n",
    "* [ZPIC](tutorial/ZPIC.ipynb) - Main tutorial file, **be sure to start here**;\n",
    "* [Saving Results](tutorial/Saving%20results.ipynb) - Saving simulation results to disk;\n",
    "* [Animation](tutorial/Animation.ipynb) - Ceating animations from your simulations;\n",
    "* [External Fields](tutorial/External%20Fields.ipynb) - Using external (constant) EM fields in your simulation;\n",
    "* [Initial Fields](tutorial/Initial%20Fields.ipynb) - Setting the initial EM fields for your simulation;\n",
    "* [Density](tutorial/Density.ipynb) - Setting the density profile of particle species;\n",
    "* [Thermal distribution](tutorial/Thermal%20Distribution.ipynb) - Setting the thermal distribution of particle species;\n",
    "* [Cathode](tutorial/Cathode.ipynb) - Implementing a cathode (particle injection from simulation wall);\n",
    "* [Custom velocity distribution](tutorial/Custom%20velocity%20distribution.ipynb) - Implementing custom (arbitrary) intial velocity distributions;\n",
    "* [Laser Pulses](tutorial/Laser%20Pulses.ipynb) - Launching laser pulses ini ZPIC simulations.\n",
    "\n",
    "## Classroom examples\n",
    "\n",
    "* [Two-Stream](classroom/Two-Stream.ipynb) - Numerical simulations of the Two-Stream instability using an electromagnetic code;\n",
    "* [Weibel](classroom/Weibel.ipynb) - Demonstration of the Weibel (electromagnetic filamentation) instability in the collision of neutral electron/positron plasma clouds;\n",
    "* [Electron Plasma Waves](classroom/Electron%20Plasma%20Waves.ipynb) - Focuses on electrostatic and electromagnetic plasma waves in unmagnetized plasmas;\n",
    "* [O-X Waves](classroom/O-X%20Waves.ipynb) - Studies electromagnetic waves in a magnetized plasma, in particular polarized either along the applied magnetic fields (O-waves) or perpendicular to it (X-waves);\n",
    "* [R-L Waves](classroom/R-L%20Waves.ipynb) - Studies electromagnetic waves in a magnetized plasma, in particular waves propagating along the applied magnetic field;\n",
    "* [Debye Shielding](classroom/Debye%20Shielding.ipynb) - Focuses on Debye shielding;\n",
    "* [Faraday Rotation](classroom/Faraday%20Rotation.ipynb) - Observation of the Faraday rotation effect;\n",
    "* [Electrostatic Two-Stream](classroom/Electrostatic%20Two-Stream.ipynb) - Numerical simulations of the Two-Stream instability using an electrostatic code;\n",
    "* [LWFA 1D](classroom/LWFA%201D.ipynb) - Numerical simulations of a laser wakefield accelerator in 1D;\n",
    "* [LWFA 2D](classroom/LWFA%202D.ipynb) - Numerical simulations of a laser wakefield accelerator in 2D;\n",
    "* [PWFA 1D](classroom/PWFA%201D.ipynb) - Numerical simulations of a plasma wakefield accelerator in 1D;\n",
    "* [PBWA 1D](classroom/PBWA%201D.ipynb) - Numerical simulations of a plasma beat wave accelerator in 1D;\n",
    "* [Coulomb Collisions](classroom/Coulomb%20Collisions.ipynb) - Study of Coulomb Collisions / Rutherford scattering;\n",
    "* [Diamagnetic Drift](classroom/Diamagnetic%20Drift.ipynb) - Focuses on the diamagnetic drift (or diamagnetic current), a fluid drift in which a current arrises in a magnetized plasma with a given density gradient;\n",
    "* [E×B Drift](classroom/ExB%20Drift.ipynb) - Studies of single particle **E**×**B** drifts;\n",
    "* [Magnetic Bottle](classroom/Magnetic%20Bottle.ipynb) - Numerical studies of the magnetic bottle confinement scheme;\n",
    "* [Field solver dispersion](classroom/Field%20solver%20dispersion.ipynb) - Analyses the different dispersion properties of the field solvers used in finite difference and spectral codes.\n",
    "\n",
    "## Landmark papers\n",
    "\n",
    "* [Tajima and Dawson (1979)](papers/Tajima%20and%20Dawson%201979.ipynb) - Laser Electron Accelerator, Physical Review Letters, Volume 43, Number 4, July 1979, [DOI: 10.1103/PhysRevLett.43.267](https://doi.org/10.1103/PhysRevLett.43.267);\n",
    "* [Morse and Nielsen (1971)](papers/Morse%20and%20Nielsen%201971.ipynb) - Numerical Simulation of the Weibel Instability in One and Two Dimensions, The Physics of Fluids, Volume 14, Number 4, April 1971, [DOI: 10.1063/1.1693518](https://doi.org/10.1063/1.1693518).\n"
   ]
  }
 ],
 "metadata": {
  "language_info": {
   "name": "python"
  },
  "orig_nbformat": 4
 },
 "nbformat": 4,
 "nbformat_minor": 2
}
