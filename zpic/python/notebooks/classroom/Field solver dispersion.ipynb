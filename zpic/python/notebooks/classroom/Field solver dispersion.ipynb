{
 "cells": [
  {
   "cell_type": "markdown",
   "metadata": {},
   "source": [
    "# Field solver dispersion relation"
   ]
  },
  {
   "cell_type": "markdown",
   "metadata": {},
   "source": [
    "This notebook studies the behavior of different field solvers in modeling the propagation of EM waves in unmagnetized plasmas, focusing on the dispersion relation. We initialize the simulation with a low temperature ($u_{th} = 0.001 c$) plasma, effectively injecting waves of all possible wavelengths into the simulation.\n",
    "\n",
    "You can choose the field solver to use by changing the `import em1d* as zpic` line:\n",
    "* `em1d` chooses the finite difference (FDTD) solver\n",
    "* `em1ds` chooses the Pseudo-spectral solvers. In this case you can choose between the Pseudo Spectral Time Domain (\"PSTD\" - default) and the Pseudo Spectral Analytical Time Domain (\"PSATD\") solvers by setting the `emf.solver_type` property.\n",
    "\n",
    "The timestep was chosen as $\\Delta t = \\Delta x/2$, to better illustrate the limitations of the finite difference solvers. In normal simulations you will get better results using:\n",
    "* For the FDTD solver $\\Delta t$ as close as possible to the cell size\n",
    "* For the PSTD solver smaller values of $\\Delta t$\n",
    "\n",
    "We run the simulation up to a fixed number of iterations, controlled by the variable `niter`, storing the value of the EM field $E_z$ at every timestep so we can analyze them later:\n"
   ]
  },
  {
   "cell_type": "code",
   "execution_count": 5,
   "metadata": {},
   "outputs": [
    {
     "name": "stdout",
     "output_type": "stream",
     "text": [
      "\n",
      "Running simulation up to t = 200 ...\n",
      "n = 3999, t = 199.95\n",
      "Done.\n"
     ]
    }
   ],
   "source": [
    "# Add zpic library to path\n",
    "import sys\n",
    "sys.path.append(\"../../lib\")\n",
    "\n",
    "# Choose between finite difference (em1d) and spectral (em1ds) codes\n",
    "#import em1d as zpic\n",
    "import em1ds as zpic\n",
    "\n",
    "niter = 4000\n",
    "\n",
    "electrons = zpic.Species( \"electrons\", -1.0, ppc = 64, uth=[0.001,0.001,0.001])\n",
    "sim = zpic.Simulation( nx = 500, box = 50.0, dt = 0.5 * 0.1, species = electrons )\n",
    "\n",
    "#sim.emf.solver_type = \"PSTD\"\n",
    "sim.emf.solver_type = \"PSATD\"\n",
    "\n",
    "\n",
    "# Run the simulation\n",
    "import numpy as np\n",
    "Ez_t = np.zeros((niter,sim.nx))\n",
    "\n",
    "print(\"\\nRunning simulation up to t = {:g} ...\".format(niter * sim.dt))\n",
    "while sim.n < niter:\n",
    "    print('n = {:d}, t = {:g}'.format(sim.n,sim.t), end = '\\r')\n",
    "    Ez_t[sim.n,:] = sim.emf.Ez\n",
    "    sim.iter()\n",
    "\n",
    "print(\"\\nDone.\")"
   ]
  },
  {
   "cell_type": "markdown",
   "metadata": {},
   "source": [
    "## Electromagnetic Waves in Plasmas\n",
    "To analyze the dispersion relation of the EM waves we use a 2D (Fast) Fourier transform of $E_z(x,t)$ field values that we stored during the simulation. The plot below shows the obtained power spectrum alongside the theoretical prediction.\n",
    "\n",
    "Since the dataset is not periodic along $t$ we apply a windowing technique (Hanning) to the dataset to lower the background spectrum, and make the dispersion relation more visible."
   ]
  },
  {
   "cell_type": "code",
   "execution_count": 6,
   "metadata": {},
   "outputs": [
    {
     "data": {
      "image/png": "[encoded data removed]",
      "text/plain": [
       "<Figure size 432x288 with 1 Axes>"
      ]
     },
     "metadata": {
      "needs_background": "light"
     },
     "output_type": "display_data"
    }
   ],
   "source": [
    "import matplotlib.pyplot as plt\n",
    "import matplotlib.colors as colors\n",
    "\n",
    "# (omega,k) power spectrum\n",
    "\n",
    "win = np.hanning(niter)\n",
    "for i in range(sim.nx):\n",
    "    Ez_t[:,i] *= win\n",
    "\n",
    "sp = np.abs(np.fft.fft2(Ez_t))**2\n",
    "sp = np.fft.fftshift( sp )\n",
    "\n",
    "k_max = np.pi / sim.dx\n",
    "omega_max = np.pi / sim.dt\n",
    "\n",
    "plt.imshow( sp, origin = 'lower', norm=colors.LogNorm(vmin = 1e-7, vmax = 0.01),\n",
    "           extent = ( -k_max, k_max, -omega_max, omega_max ),\n",
    "           aspect = 'auto', cmap = 'gray')\n",
    "\n",
    "k = np.linspace(-k_max, k_max, num = 512)\n",
    "w=np.sqrt(1 + k**2)\n",
    "plt.plot( k, w, label = \"$\\omega^2 = \\omega_p^2 + k^2c^2$\", color = 'r', ls = '-.' )\n",
    "\n",
    "\n",
    "plt.ylim(0,k_max)\n",
    "plt.xlim(0,k_max)\n",
    "plt.xlabel(\"$k$ [$\\omega_n/c$]\")\n",
    "plt.ylabel(\"$\\omega$ [$\\omega_n$]\")\n",
    "\n",
    "plt.title( sim.emf.solver_type )\n",
    "\n",
    "\n",
    "plt.legend()\n",
    "\n",
    "plt.show()"
   ]
  },
  {
   "cell_type": "code",
   "execution_count": null,
   "metadata": {},
   "outputs": [],
   "source": []
  }
 ],
 "metadata": {
  "kernelspec": {
   "display_name": "Python 3",
   "language": "python",
   "name": "python3"
  },
  "language_info": {
   "codemirror_mode": {
    "name": "ipython",
    "version": 3
   },
   "file_extension": ".py",
   "mimetype": "text/x-python",
   "name": "python",
   "nbconvert_exporter": "python",
   "pygments_lexer": "ipython3",
   "version": "3.9.9"
  }
 },
 "nbformat": 4,
 "nbformat_minor": 2
}
