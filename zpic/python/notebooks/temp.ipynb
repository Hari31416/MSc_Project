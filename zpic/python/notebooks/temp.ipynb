{
 "cells": [
  {
   "cell_type": "code",
   "execution_count": null,
   "metadata": {},
   "outputs": [],
   "source": [
    "import sys\n",
    "\n",
    "\n",
    "def get_max_avg(array, N, K):\n",
    "    array.extend(array)\n",
    "    max_avg = 0\n",
    "    for k in range(K, N):\n",
    "        for i in range(len(array) - k):\n",
    "            j = i + k\n",
    "            slice = array[i:j]\n",
    "            assert len(slice) == k\n",
    "            avg = sum(slice)/len(slice)\n",
    "            if max_avg < avg:\n",
    "                max_avg = avg\n",
    "        return max_avg\n",
    "\n",
    "\n",
    "if __name__ == \"__main__\":\n",
    "    array = []\n",
    "    N, K = map(int, sys.stdin.readline().split())\n",
    "    for i in range(N):\n",
    "        array.append(int(sys.stdin.readline()))\n",
    "    print(get_max_avg(array))\n"
   ]
  },
  {
   "cell_type": "code",
   "execution_count": 4,
   "metadata": {},
   "outputs": [],
   "source": [
    "def num_arrows(positions):\n",
    "    num = 1\n",
    "    start = positions[0]\n",
    "    for pos in positions[1:]:\n",
    "        new_pos = pos\n",
    "        if start-new_pos == 1:\n",
    "            start=pos\n",
    "            continue\n",
    "        else:\n",
    "            num+=1\n",
    "            start = pos\n",
    "    return num"
   ]
  },
  {
   "cell_type": "code",
   "execution_count": 5,
   "metadata": {},
   "outputs": [
    {
     "data": {
      "text/plain": [
       "2"
      ]
     },
     "execution_count": 5,
     "metadata": {},
     "output_type": "execute_result"
    }
   ],
   "source": [
    "num_arrows([2,1,5,4,3])"
   ]
  },
  {
   "cell_type": "code",
   "execution_count": 7,
   "metadata": {},
   "outputs": [
    {
     "data": {
      "text/plain": [
       "6"
      ]
     },
     "execution_count": 7,
     "metadata": {},
     "output_type": "execute_result"
    }
   ],
   "source": [
    "num_arrows([1,2,3,4,5,10])"
   ]
  },
  {
   "cell_type": "code",
   "execution_count": 10,
   "metadata": {},
   "outputs": [
    {
     "data": {
      "text/plain": [
       "4"
      ]
     },
     "execution_count": 10,
     "metadata": {},
     "output_type": "execute_result"
    }
   ],
   "source": [
    "num_arrows([1,2,4,3,10])"
   ]
  },
  {
   "cell_type": "code",
   "execution_count": 3,
   "metadata": {},
   "outputs": [
    {
     "name": "stdout",
     "output_type": "stream",
     "text": [
      "Hello World!\n",
      "lorem ipsum dolor sit amet, consectetur adipiscing elit.\n",
      "lorem ipsum dolor sit amet, consectetur adipiscing elit.\n"
     ]
    }
   ],
   "source": [
    "with open(\"test.txt\") as f:\n",
    "    print(f.read())"
   ]
  },
  {
   "cell_type": "code",
   "execution_count": null,
   "metadata": {},
   "outputs": [],
   "source": []
  }
 ],
 "metadata": {
  "kernelspec": {
   "display_name": "Python 3.9.12 ('data-science')",
   "language": "python",
   "name": "python3"
  },
  "language_info": {
   "codemirror_mode": {
    "name": "ipython",
    "version": 3
   },
   "file_extension": ".py",
   "mimetype": "text/x-python",
   "name": "python",
   "nbconvert_exporter": "python",
   "pygments_lexer": "ipython3",
   "version": "3.9.12"
  },
  "orig_nbformat": 4,
  "vscode": {
   "interpreter": {
    "hash": "2efee1efa502125d01e6b4768ba06d9453d29f3642bfd14ad5d4a769de82e88c"
   }
  }
 },
 "nbformat": 4,
 "nbformat_minor": 2
}
