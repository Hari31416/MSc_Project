{
 "cells": [
  {
   "cell_type": "code",
   "execution_count": 3,
   "metadata": {},
   "outputs": [],
   "source": [
    "import matplotlib\n",
    "import sys\n",
    "import numpy as np\n",
    "sys.path.append(\"../lib\")\n",
    "import em2d as zpic\n",
    "import matplotlib.pyplot as plt\n",
    "matplotlib.rcParams[\"figure.figsize\"] = (12, 8)\n"
   ]
  },
  {
   "cell_type": "code",
   "execution_count": 4,
   "metadata": {},
   "outputs": [
    {
     "name": "stdout",
     "output_type": "stream",
     "text": [
      "(1536,)\n"
     ]
    }
   ],
   "source": [
    "# Time step\n",
    "dt = 0.01\n",
    "\n",
    "# Number of cells\n",
    "nx = [64, 64]\n",
    "\n",
    "# Simulation box size\n",
    "box = [6.4, 6.4]\n",
    "\n",
    "\n",
    "## Plasma slabs\n",
    "# Particles per cell\n",
    "ppc = [4, 4]\n",
    "\n",
    "def custom_nx(x):\n",
    "    if x > 6.3:\n",
    "        return 1.0\n",
    "    else:\n",
    "        # print(\"IN ELSE\")\n",
    "        return 0.0\n",
    "def custom_ny(y):\n",
    "    return 1\n",
    "# Use a custom density profile\n",
    "dens = zpic.Density(type=\"custom\", custom_x=custom_nx, custom_y=custom_ny)\n",
    "# dens = zpic.Density(type=\"step\", start=6.3)\n",
    "# Set up a super low density\n",
    "dens.n = 1e-2\n",
    "# give it a small velocity to kick of the motion\n",
    "ufl = 0.1\n",
    "# create the species\n",
    "electrons = zpic.Species(\"electrons\", m_q=-1, ppc=ppc, density=dens, ufl=[ufl, 0, 0])\n",
    "\n",
    "# Initialize simulation\n",
    "sim = zpic.Simulation(nx, box, dt, species=electrons)\n",
    "print(electrons.particles.shape)"
   ]
  }
 ],
 "metadata": {
  "kernelspec": {
   "display_name": "Python 3.7.13 ('msc-project')",
   "language": "python",
   "name": "python3"
  },
  "language_info": {
   "codemirror_mode": {
    "name": "ipython",
    "version": 3
   },
   "file_extension": ".py",
   "mimetype": "text/x-python",
   "name": "python",
   "nbconvert_exporter": "python",
   "pygments_lexer": "ipython3",
   "version": "3.7.13"
  },
  "orig_nbformat": 4,
  "vscode": {
   "interpreter": {
    "hash": "fa5e0b5e350e2ea728d32bac1d29c4433d157848f5d1e6c8399ad60c17c24f73"
   }
  }
 },
 "nbformat": 4,
 "nbformat_minor": 2
}
