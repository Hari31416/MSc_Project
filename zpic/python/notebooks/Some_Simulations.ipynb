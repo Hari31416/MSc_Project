{
 "cells": [
  {
   "cell_type": "markdown",
   "metadata": {},
   "source": [
    "## Wave in Vaccum"
   ]
  },
  {
   "cell_type": "code",
   "execution_count": 5,
   "metadata": {},
   "outputs": [],
   "source": [
    "# Add zpic library to path\n",
    "import sys\n",
    "\n",
    "sys.path.append(\"../lib\")\n",
    "\n",
    "# get ZPIC 2D\n",
    "import em1d as zpic\n",
    "import numpy as np\n",
    "import matplotlib\n",
    "import matplotlib.pyplot as plt\n",
    "from matplotlib import animation\n",
    "from IPython.display import clear_output, Video\n",
    "\n",
    "matplotlib.rcParams[\"figure.figsize\"] = (10, 8)"
   ]
  },
  {
   "cell_type": "code",
   "execution_count": 34,
   "metadata": {},
   "outputs": [],
   "source": [
    "# Time step\n",
    "dt = 0.01\n",
    "\n",
    "# Number of cells\n",
    "nx = 64\n",
    "\n",
    "# Simulation box size\n",
    "box = 6.4\n",
    "def E(ix, dx):\n",
    "    x = (ix+0.5)*dx\n",
    "    return [0,0,np.sin(x)**2]\n",
    "sim = zpic.Simulation(nx, box, dt)\n",
    "init = zpic.InitialField(E_type = 'custom', E_custom = E)\n",
    "sim.emf.init_fld( init )"
   ]
  },
  {
   "cell_type": "code",
   "execution_count": 43,
   "metadata": {},
   "outputs": [
    {
     "name": "stdout",
     "output_type": "stream",
     "text": [
      "1000 of 1000\r"
     ]
    }
   ],
   "source": [
    "# sim.set_moving_window()\n",
    "iterations = int(10/dt)\n",
    "Ezs = np.zeros((iterations, nx))\n",
    "Bys = np.zeros((iterations, nx))\n",
    "for i in range(iterations):\n",
    "    print(f\"{i+1} of {iterations}\", end=\"\\r\")\n",
    "    sim.iter()\n",
    "    Ezs[i] = sim.emf.Ez\n",
    "    Bys[i] = sim.emf.By\n"
   ]
  },
  {
   "cell_type": "code",
   "execution_count": 44,
   "metadata": {},
   "outputs": [
    {
     "data": {
      "text/plain": [
       "[<matplotlib.lines.Line2D at 0x7f0c103aebc0>]"
      ]
     },
     "execution_count": 44,
     "metadata": {},
     "output_type": "execute_result"
    },
    {
     "data": {
      "image/png": "[encoded data removed]",
      "text/plain": [
       "<Figure size 720x576 with 1 Axes>"
      ]
     },
     "metadata": {
      "needs_background": "light"
     },
     "output_type": "display_data"
    }
   ],
   "source": [
    "plt.plot(sim.emf.Ez, \"o\")\n",
    "plt.plot(sim.emf.By)"
   ]
  },
  {
   "cell_type": "code",
   "execution_count": 48,
   "metadata": {},
   "outputs": [
    {
     "name": "stdout",
     "output_type": "stream",
     "text": [
      "2.23\n"
     ]
    }
   ],
   "source": [
    "print(f\"{2.2345566:.2f}\")"
   ]
  },
  {
   "cell_type": "code",
   "execution_count": 49,
   "metadata": {},
   "outputs": [
    {
     "name": "stderr",
     "output_type": "stream",
     "text": [
      "No artists with labels found to put in legend.  Note that artists whose label start with an underscore are ignored when legend() is called with no argument.\n"
     ]
    },
    {
     "name": "stdout",
     "output_type": "stream",
     "text": [
      "Time 1000\r"
     ]
    }
   ],
   "source": [
    "# Creating the Figure and Axes\n",
    "fig = plt.figure(figsize=(8, 8))\n",
    "ax = plt.axes()\n",
    "\n",
    "# Setting title and axes names\n",
    "plt.title(\"Wave in Vaccum\", fontdict={\"fontsize\": 18})\n",
    "plt.xlabel(\"Node\", fontdict={\"fontsize\": 18})\n",
    "plt.ylabel(\"Amplitude\", fontdict={\"fontsize\": 18})\n",
    "plt.xlim(0, 64)\n",
    "plt.ylim(-1.1, 1.1)\n",
    "\n",
    "# Lines which are neede to animate\n",
    "N = 2\n",
    "lines = [plt.plot([], [])[0] for _ in range(N)]\n",
    "\n",
    "# The init function\n",
    "def init():\n",
    "    # init lines\n",
    "    for line in lines:\n",
    "        line.set_data([], [])\n",
    "    return lines\n",
    "\n",
    "\n",
    "# Needed for adding legends\n",
    "legend = plt.legend()\n",
    "\n",
    "# The Animate function\n",
    "def animate(i):\n",
    "    values = np.array([Ezs[i], Bys[i]])\n",
    "\n",
    "    # Plot the solution and the legends\n",
    "    for j, line in enumerate(lines):\n",
    "        line.set_data(range(len(values[j])), values[j])\n",
    "        if j == 0:\n",
    "            line.set_label(fr\"$E_z$ at t={(i+1)*dt:.2f}\")\n",
    "        else:\n",
    "            line.set_label(fr\"$H_x$ at t={(i+1)*dt:.2f}\")\n",
    "    legend = plt.legend(loc=\"upper right\")\n",
    "    if (i + 1) % 50 == 0:\n",
    "        print(\"Time\", i + 1, end=\"\\r\")\n",
    "        # clear_output(wait=True)\n",
    "    return lines + [legend]\n",
    "\n",
    "\n",
    "# The animation\n",
    "anim = animation.FuncAnimation(\n",
    "    fig, animate, init_func=init, frames=np.arange(0, iterations), interval=40, blit=True\n",
    ")\n",
    "\n",
    "# Saving the Animation\n",
    "anim.save(\"wave.mp4\", writer=\"ffmpeg\")\n",
    "plt.close()\n"
   ]
  },
  {
   "cell_type": "code",
   "execution_count": 46,
   "metadata": {},
   "outputs": [
    {
     "data": {
      "text/html": [
       "<video src=\"wave.mp4\" controls  >\n",
       "      Your browser does not support the <code>video</code> element.\n",
       "    </video>"
      ],
      "text/plain": [
       "<IPython.core.display.Video object>"
      ]
     },
     "execution_count": 46,
     "metadata": {},
     "output_type": "execute_result"
    }
   ],
   "source": [
    "Video(\"wave.mp4\")"
   ]
  },
  {
   "cell_type": "markdown",
   "metadata": {},
   "source": [
    "## Laser"
   ]
  },
  {
   "cell_type": "code",
   "execution_count": 1,
   "metadata": {},
   "outputs": [],
   "source": [
    "# Add zpic library to path\n",
    "import sys\n",
    "sys.path.append(\"../lib\")\n",
    "\n",
    "import em1d\n",
    "import numpy as np\n",
    "\n",
    "# Time step\n",
    "dt = 0.019\n",
    "\n",
    "# Number of cells\n",
    "nx  = 1000\n",
    "\n",
    "# Simulation box size\n",
    "box = 20.0\n",
    "\n",
    "# Initialize simulation\n",
    "sim = em1d.Simulation( nx, box, dt )\n",
    "\n",
    "# Add laser pulse\n",
    "sim.add_laser( em1d.Laser( start = 15.0, fwhm = 4.0, a0 = 1.0, omega0 = 10.0,\n",
    "               polarization = np.pi/2 ))"
   ]
  },
  {
   "cell_type": "code",
   "execution_count": 2,
   "metadata": {},
   "outputs": [
    {
     "name": "stdout",
     "output_type": "stream",
     "text": [
      "2631 of 2631\r"
     ]
    }
   ],
   "source": [
    "# Set moving window\n",
    "# sim.set_moving_window()\n",
    "\n",
    "iterations = int(50/dt)\n",
    "Ezs = np.zeros((iterations, nx))\n",
    "Bys = np.zeros((iterations, nx))\n",
    "for i in range(iterations):\n",
    "    print(f\"{i+1} of {iterations}\", end=\"\\r\")\n",
    "    sim.iter()\n",
    "    Ezs[i] = sim.emf.Ez\n",
    "    Bys[i] = sim.emf.By\n"
   ]
  },
  {
   "cell_type": "code",
   "execution_count": 3,
   "metadata": {},
   "outputs": [
    {
     "data": {
      "text/plain": [
       "(11.774473190307617, 11.905373573303223)"
      ]
     },
     "execution_count": 3,
     "metadata": {},
     "output_type": "execute_result"
    }
   ],
   "source": [
    "Ezs.max(), Bys.max()"
   ]
  },
  {
   "cell_type": "code",
   "execution_count": 4,
   "metadata": {},
   "outputs": [
    {
     "ename": "NameError",
     "evalue": "name 'plt' is not defined",
     "output_type": "error",
     "traceback": [
      "\u001b[0;31m---------------------------------------------------------------------------\u001b[0m",
      "\u001b[0;31mNameError\u001b[0m                                 Traceback (most recent call last)",
      "\u001b[1;32m/media/hari31416/Hari_SSD/Users/harik/Desktop/Project_Sem_3/zpic/python/notebooks/Some_Simulations.ipynb Cell 13\u001b[0m in \u001b[0;36m<cell line: 3>\u001b[0;34m()\u001b[0m\n\u001b[1;32m      <a href='vscode-notebook-cell:/media/hari31416/Hari_SSD/Users/harik/Desktop/Project_Sem_3/zpic/python/notebooks/Some_Simulations.ipynb#ch0000012?line=0'>1</a>\u001b[0m xmin \u001b[39m=\u001b[39m sim\u001b[39m.\u001b[39mdx\u001b[39m/\u001b[39m\u001b[39m2\u001b[39m \u001b[39m+\u001b[39m sim\u001b[39m.\u001b[39mt\n\u001b[1;32m      <a href='vscode-notebook-cell:/media/hari31416/Hari_SSD/Users/harik/Desktop/Project_Sem_3/zpic/python/notebooks/Some_Simulations.ipynb#ch0000012?line=1'>2</a>\u001b[0m xmax \u001b[39m=\u001b[39m sim\u001b[39m.\u001b[39mbox \u001b[39m+\u001b[39m (sim\u001b[39m.\u001b[39mn_move \u001b[39m-\u001b[39m \u001b[39m0.5\u001b[39m) \u001b[39m*\u001b[39m sim\u001b[39m.\u001b[39mdx\n\u001b[0;32m----> <a href='vscode-notebook-cell:/media/hari31416/Hari_SSD/Users/harik/Desktop/Project_Sem_3/zpic/python/notebooks/Some_Simulations.ipynb#ch0000012?line=2'>3</a>\u001b[0m plt\u001b[39m.\u001b[39mplot(np\u001b[39m.\u001b[39mlinspace(xmin, xmax, num \u001b[39m=\u001b[39m sim\u001b[39m.\u001b[39mnx), sim\u001b[39m.\u001b[39memf\u001b[39m.\u001b[39mEz, label \u001b[39m=\u001b[39m \u001b[39m\"\u001b[39m\u001b[39m$E_z$ field\u001b[39m\u001b[39m\"\u001b[39m )\n\u001b[1;32m      <a href='vscode-notebook-cell:/media/hari31416/Hari_SSD/Users/harik/Desktop/Project_Sem_3/zpic/python/notebooks/Some_Simulations.ipynb#ch0000012?line=3'>4</a>\u001b[0m plt\u001b[39m.\u001b[39mplot(np\u001b[39m.\u001b[39mlinspace(xmin, xmax, num \u001b[39m=\u001b[39m sim\u001b[39m.\u001b[39mnx), sim\u001b[39m.\u001b[39memf\u001b[39m.\u001b[39mBy, label \u001b[39m=\u001b[39m \u001b[39m\"\u001b[39m\u001b[39m$B_y$ field\u001b[39m\u001b[39m\"\u001b[39m )\n",
      "\u001b[0;31mNameError\u001b[0m: name 'plt' is not defined"
     ]
    }
   ],
   "source": [
    "xmin = sim.dx/2 + sim.t\n",
    "xmax = sim.box + (sim.n_move - 0.5) * sim.dx\n",
    "plt.plot(np.linspace(xmin, xmax, num = sim.nx), sim.emf.Ez, label = \"$E_z$ field\" )\n",
    "plt.plot(np.linspace(xmin, xmax, num = sim.nx), sim.emf.By, label = \"$B_y$ field\" )"
   ]
  },
  {
   "cell_type": "code",
   "execution_count": 16,
   "metadata": {},
   "outputs": [
    {
     "name": "stderr",
     "output_type": "stream",
     "text": [
      "No artists with labels found to put in legend.  Note that artists whose label start with an underscore are ignored when legend() is called with no argument.\n"
     ]
    },
    {
     "name": "stdout",
     "output_type": "stream",
     "text": [
      "Time 2600\r"
     ]
    }
   ],
   "source": [
    "# Creating the Figure and Axes\n",
    "fig = plt.figure(figsize=(8, 8))\n",
    "ax = plt.axes()\n",
    "xmin = sim.dx/2 + sim.t\n",
    "xmax = sim.box + (sim.n_move - 0.5) * sim.dx\n",
    "# Setting title and axes names\n",
    "plt.title(\"Laser in Vaccum\", fontdict={\"fontsize\": 18})\n",
    "plt.xlabel(\"Node\", fontdict={\"fontsize\": 18})\n",
    "plt.ylabel(\"Amplitude\", fontdict={\"fontsize\": 18})\n",
    "plt.xlim(15, 55)\n",
    "plt.ylim(-10.1, 10.1)\n",
    "\n",
    "# Lines which are neede to animate\n",
    "N = 2\n",
    "lines = [plt.plot([], [])[0] for _ in range(N)]\n",
    "\n",
    "# The init function\n",
    "def init():\n",
    "    # init lines\n",
    "    for line in lines:\n",
    "        line.set_data([], [])\n",
    "    return lines\n",
    "\n",
    "\n",
    "# Needed for adding legends\n",
    "legend = plt.legend()\n",
    "\n",
    "# The Animate function\n",
    "def animate(i):\n",
    "    values = np.array([Ezs[i], Bys[i]])\n",
    "\n",
    "    # Plot the solution and the legends\n",
    "    for j, line in enumerate(lines):\n",
    "        line.set_data(np.linspace(xmin, xmax, num = sim.nx), values[j])\n",
    "        if j == 0:\n",
    "            line.set_label(fr\"$E_z$ at t={(i+1)*dt:.2f}\")\n",
    "        else:\n",
    "            line.set_label(fr\"$H_x$ at t={(i+1)*dt:.2f}\")\n",
    "    legend = plt.legend(loc=\"upper right\")\n",
    "    if (i + 1) % 50 == 0:\n",
    "        print(\"Time\", i + 1, end=\"\\r\")\n",
    "        # clear_output(wait=True)\n",
    "    return lines + [legend]\n",
    "\n",
    "\n",
    "# The animation\n",
    "anim = animation.FuncAnimation(\n",
    "    fig, animate, init_func=init, frames=np.arange(0, iterations), interval=10, blit=True\n",
    ")\n",
    "\n",
    "# Saving the Animation\n",
    "anim.save(\"Laser.mp4\", writer=\"ffmpeg\")\n",
    "plt.close()\n"
   ]
  },
  {
   "cell_type": "code",
   "execution_count": 17,
   "metadata": {},
   "outputs": [
    {
     "data": {
      "text/html": [
       "<video src=\"Laser.mp4\" controls  >\n",
       "      Your browser does not support the <code>video</code> element.\n",
       "    </video>"
      ],
      "text/plain": [
       "<IPython.core.display.Video object>"
      ]
     },
     "execution_count": 17,
     "metadata": {},
     "output_type": "execute_result"
    }
   ],
   "source": [
    "Video(\"Laser.mp4\")"
   ]
  },
  {
   "cell_type": "code",
   "execution_count": null,
   "metadata": {},
   "outputs": [],
   "source": []
  }
 ],
 "metadata": {
  "kernelspec": {
   "display_name": "Python 3.10.4 ('zpic')",
   "language": "python",
   "name": "python3"
  },
  "language_info": {
   "codemirror_mode": {
    "name": "ipython",
    "version": 3
   },
   "file_extension": ".py",
   "mimetype": "text/x-python",
   "name": "python",
   "nbconvert_exporter": "python",
   "pygments_lexer": "ipython3",
   "version": "3.10.4"
  },
  "orig_nbformat": 4,
  "vscode": {
   "interpreter": {
    "hash": "4b486aef6fdd7c88db1e8908e235bc07c92d3a1a40a1dc4cb94137c14af80129"
   }
  }
 },
 "nbformat": 4,
 "nbformat_minor": 2
}
