{
 "cells": [
  {
   "cell_type": "markdown",
   "id": "105214dd-863d-4a36-abde-b7c8bd0f3b70",
   "metadata": {},
   "source": [
    "# Particle injection from wall\n",
    "\n",
    "Particle injection from wall is not yet implemented in the code C code. This notebook illustrates implementing particle injection from wall using Python.\n",
    "\n",
    "We start by creating particle species without any initial particle distribution:"
   ]
  },
  {
   "cell_type": "code",
   "execution_count": 1,
   "id": "c18952ab-12a3-4a26-9358-b6ed7f147549",
   "metadata": {},
   "outputs": [],
   "source": [
    "# Add zpic library to path\n",
    "import sys\n",
    "sys.path.append(\"../../lib\")\n",
    "\n",
    "import em1d as zpic\n",
    "\n",
    "import numpy as np\n",
    "\n",
    "nx = 128\n",
    "box = 12.8\n",
    "dt = 0.09\n",
    "ppc = 5\n",
    "\n",
    "# Create 2 particle species with no initial particles\n",
    "electrons = zpic.Species( \"electrons\", -1.0, ppc, density = zpic.Density( type = \"empty\" ) )\n",
    "positrons = zpic.Species( \"positrons\", +1.0, ppc, density = zpic.Density( type = \"empty\" ) )\n",
    "\n",
    "# Initialize the simulation without diagnostics\n",
    "sim = zpic.Simulation( nx, box, dt, species = [electrons,positrons] )"
   ]
  },
  {
   "cell_type": "markdown",
   "id": "premier-signature",
   "metadata": {},
   "source": [
    "The following function will inject particles from the left wall using a generalized velocity $u_{fl}$. For simplicity, this function requires that we keep the position of the next particle to be injected (a \"stateless\" version could also be implemented)."
   ]
  },
  {
   "cell_type": "code",
   "execution_count": 2,
   "id": "3f01fa1d-27fc-4365-9109-88786be8a17a",
   "metadata": {},
   "outputs": [],
   "source": [
    "def inject( species, ufl, pos ):\n",
    "    vfl = ufl / np.sqrt( ufl**2 + 1 )\n",
    "    pos = pos + vfl * species.dt / species.dx\n",
    "\n",
    "    u = np.array([ufl,0.0,0.0], dtype = np.float32 )\n",
    "        \n",
    "    while( pos >= 0 ):\n",
    "        # Particles are always added to 1st cell (0)\n",
    "        species.add( 0, pos, u )\n",
    "        pos = pos - ( 1.0 / species.ppc )\n",
    "    \n",
    "    return pos"
   ]
  },
  {
   "cell_type": "markdown",
   "id": "64d1d9e7-1343-4059-8e74-b8abd82c5382",
   "metadata": {},
   "source": [
    "ZPIC is then run with a special loop (instead of just calling the `run()` method) so we can inject particles at each timestep:"
   ]
  },
  {
   "cell_type": "code",
   "execution_count": 3,
   "id": "810ff10f-e5aa-4473-9c47-eb22f2da757c",
   "metadata": {},
   "outputs": [
    {
     "name": "stdout",
     "output_type": "stream",
     "text": [
      "n = 7, t = 0.63\r"
     ]
    }
   ],
   "source": [
    "# Total number of iterations\n",
    "tmax = 1.0\n",
    "niter = tmax / dt\n",
    "niter = 8\n",
    "ufl = 1e9\n",
    "\n",
    "# Position of the next particle to be injected\n",
    "# (position is normalized to cell size)\n",
    "pos_ele = - 0.5 / electrons.ppc\n",
    "pos_pos = - 0.5 / positrons.ppc\n",
    "\n",
    "while ( sim.n < niter ):\n",
    "    print('n = {:d}, t = {:g}'.format(sim.n,sim.t), end = '\\r')\n",
    "    sim.iter()\n",
    "    pos_ele = inject( electrons, ufl, pos_ele )\n",
    "    pos_pos = inject( positrons, ufl, pos_pos )"
   ]
  },
  {
   "cell_type": "markdown",
   "id": "7c6a7205-6384-4e9d-9e27-7cea054b12c8",
   "metadata": {},
   "source": [
    "The phasespace shows the injected particles"
   ]
  },
  {
   "cell_type": "code",
   "execution_count": 4,
   "id": "5fc3d9f0-4799-40da-b7d9-0e8a1f0bc92d",
   "metadata": {},
   "outputs": [
    {
     "data": {
      "image/png": "[encoded data removed]",
      "text/plain": [
       "<Figure size 432x288 with 1 Axes>"
      ]
     },
     "metadata": {
      "needs_background": "light"
     },
     "output_type": "display_data"
    }
   ],
   "source": [
    "import matplotlib.pyplot as plt\n",
    "\n",
    "# Simple function to convert particle positions\n",
    "x = lambda s : (s.particles['ix'] + s.particles['x']) * s.dx \n",
    "\n",
    "plt.plot(x(electrons), electrons.particles['ux'], '.', ms=10, label = \"electrons\")\n",
    "plt.plot(x(positrons), positrons.particles['ux'], '.', ms=10, label = \"positrons\")\n",
    "plt.xlabel(\"$x_1$ [$c\\,\\omega_n^{-1}$]\")\n",
    "plt.ylabel(\"$u_1$ [$m_e c$]\")\n",
    "plt.title(\"u1-x1 phasespace\\nt = {:g}\".format(sim.t))\n",
    "plt.legend()\n",
    "plt.grid(True)\n",
    "plt.show()"
   ]
  }
 ],
 "metadata": {
  "kernelspec": {
   "display_name": "Python 3",
   "language": "python",
   "name": "python3"
  },
  "language_info": {
   "codemirror_mode": {
    "name": "ipython",
    "version": 3
   },
   "file_extension": ".py",
   "mimetype": "text/x-python",
   "name": "python",
   "nbconvert_exporter": "python",
   "pygments_lexer": "ipython3",
   "version": "3.9.9"
  }
 },
 "nbformat": 4,
 "nbformat_minor": 5
}
