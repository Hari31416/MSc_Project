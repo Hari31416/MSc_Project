{
 "cells": [
  {
   "cell_type": "code",
   "execution_count": 1,
   "metadata": {},
   "outputs": [],
   "source": [
    "from life_saving_tools.maths.ode import ODE\n",
    "import numpy as np"
   ]
  },
  {
   "cell_type": "code",
   "execution_count": 2,
   "metadata": {},
   "outputs": [],
   "source": [
    "o = ODE()"
   ]
  },
  {
   "cell_type": "code",
   "execution_count": 3,
   "metadata": {},
   "outputs": [
    {
     "data": {
      "text/plain": [
       "array([  -2.47982779,  -36.27331561, -170.54281023])"
      ]
     },
     "execution_count": 3,
     "metadata": {},
     "output_type": "execute_result"
    }
   ],
   "source": [
    "f3 = lambda x, u1, u2, u3: 6*u3-11*u2+6*u1\n",
    "f2 = lambda x, u1, u2, u3: u3\n",
    "f1 = lambda x, u1, u2, u3: u2\n",
    "\n",
    "funcs = [f1, f2, f3]\n",
    "\n",
    "y0 = np.array([1, 2, 3])\n",
    "x0 = np.array([0, 0, 0])\n",
    "x= np.array([1.4])\n",
    "# ys = np.zeros((len(funcs), len(x)))\n",
    "o.solve(funcs, x0, y0, x)"
   ]
  },
  {
   "cell_type": "code",
   "execution_count": 4,
   "metadata": {},
   "outputs": [
    {
     "data": {
      "text/plain": [
       "array([4.0551989])"
      ]
     },
     "execution_count": 4,
     "metadata": {},
     "output_type": "execute_result"
    }
   ],
   "source": [
    "# f3 = lambda x, u1, u2, u3: 6*u3-11*u2+6*u1\n",
    "# f2 = lambda x, u1, u2, u3: u3\n",
    "f1 = lambda x, u1: u1\n",
    "\n",
    "funcs = [f1]\n",
    "\n",
    "y0 = np.array([1,])\n",
    "x0 = np.array([0])\n",
    "x= np.array([1.4])\n",
    "# ys = np.zeros((len(funcs), len(x)))\n",
    "o.solve(f1, x0, y0, x, method=\"rk4\")"
   ]
  },
  {
   "cell_type": "code",
   "execution_count": null,
   "metadata": {},
   "outputs": [],
   "source": []
  }
 ],
 "metadata": {
  "interpreter": {
   "hash": "de718a8ad747ee7ac49283422c9dd388de3f9fba8ab4214a5db121921f189761"
  },
  "kernelspec": {
   "display_name": "Python 3.9.12",
   "language": "python",
   "name": "python3"
  },
  "language_info": {
   "codemirror_mode": {
    "name": "ipython",
    "version": 3
   },
   "file_extension": ".py",
   "mimetype": "text/x-python",
   "name": "python",
   "nbconvert_exporter": "python",
   "pygments_lexer": "ipython3",
   "version": "3.9.12"
  },
  "orig_nbformat": 4
 },
 "nbformat": 4,
 "nbformat_minor": 2
}
