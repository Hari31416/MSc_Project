{
 "cells": [
  {
   "cell_type": "code",
   "execution_count": 1,
   "metadata": {},
   "outputs": [],
   "source": [
    "import os\n",
    "from life_saving_tools.files.notebook import Notebook\n",
    "n = Notebook()"
   ]
  },
  {
   "cell_type": "code",
   "execution_count": 2,
   "metadata": {},
   "outputs": [],
   "source": [
    "html_files = []\n",
    "for folders, _, files in os.walk('.'):\n",
    "    for file in files:\n",
    "        if file.endswith('.html'):\n",
    "            html_files.append(os.path.join(folders, file))\n",
    "       "
   ]
  },
  {
   "cell_type": "code",
   "execution_count": 3,
   "metadata": {},
   "outputs": [
    {
     "data": {
      "text/plain": [
       "['.\\\\temp.html',\n",
       " '.\\\\Basics_Of_Plasma\\\\Single_Particle_Motions.html',\n",
       " '.\\\\Basics_Of_Plasma\\\\Some_ODEs.html',\n",
       " '.\\\\FDTD\\\\Basics_of_FDTD.html',\n",
       " '.\\\\Numerical_Methods\\\\Curve_Fitting.html',\n",
       " '.\\\\Numerical_Methods\\\\Eigenvalue_Eigenvector.html',\n",
       " '.\\\\Numerical_Methods\\\\Interpolation2.html',\n",
       " '.\\\\Numerical_Methods\\\\Numerical_Differentiation.html',\n",
       " '.\\\\Numerical_Methods\\\\Numerical_Integration.html',\n",
       " '.\\\\Numerical_Methods\\\\ODE.html',\n",
       " '.\\\\Numerical_Methods\\\\Root_Finding.html',\n",
       " '.\\\\Numerical_Methods\\\\temp.html']"
      ]
     },
     "execution_count": 3,
     "metadata": {},
     "output_type": "execute_result"
    }
   ],
   "source": [
    "html_files"
   ]
  },
  {
   "cell_type": "code",
   "execution_count": 16,
   "metadata": {},
   "outputs": [],
   "source": [
    "import pyperclip\n",
    "folder = \"Numerical_Methods\"\n",
    "html_files = []\n",
    "files = os.listdir(folder)\n",
    "for file in files:\n",
    "    if file.endswith('.html'):\n",
    "        html_files.append(os.path.join(folder, file))\n",
    "\n",
    "start_text = \"<ol>\"\n",
    "for file in html_files:\n",
    "    name = file.split(os.path.sep)[-1]\n",
    "    name = name.split('.')[0]\n",
    "    name = name.replace('_', ' ')\n",
    "    start_text += f\"\"\"<li><a class=\"links\" target=\"_blank\" href='{file}'>{name}</a></li>\"\"\"\n",
    "end_text = \"</ol>\"\n",
    "text = start_text + end_text\n",
    "pyperclip.copy(text)"
   ]
  },
  {
   "cell_type": "code",
   "execution_count": null,
   "metadata": {},
   "outputs": [],
   "source": []
  }
 ],
 "metadata": {
  "interpreter": {
   "hash": "de718a8ad747ee7ac49283422c9dd388de3f9fba8ab4214a5db121921f189761"
  },
  "kernelspec": {
   "display_name": "Python 3.9.12",
   "language": "python",
   "name": "python3"
  },
  "language_info": {
   "codemirror_mode": {
    "name": "ipython",
    "version": 3
   },
   "file_extension": ".py",
   "mimetype": "text/x-python",
   "name": "python",
   "nbconvert_exporter": "python",
   "pygments_lexer": "ipython3",
   "version": "3.9.12"
  },
  "orig_nbformat": 4
 },
 "nbformat": 4,
 "nbformat_minor": 2
}
